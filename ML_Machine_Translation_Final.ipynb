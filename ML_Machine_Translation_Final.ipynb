{
  "nbformat": 4,
  "nbformat_minor": 0,
  "metadata": {
    "colab": {
      "name": "ML Machine Translation Final.ipynb",
      "version": "0.3.2",
      "provenance": [],
      "collapsed_sections": [],
      "include_colab_link": true
    },
    "kernelspec": {
      "name": "python3",
      "display_name": "Python 3"
    }
  },
  "cells": [
    {
      "cell_type": "markdown",
      "metadata": {
        "id": "view-in-github",
        "colab_type": "text"
      },
      "source": [
        "<a href=\"https://colab.research.google.com/github/nadyavirianta/MachineLearning/blob/master/ML_Machine_Translation_Final.ipynb\" target=\"_parent\"><img src=\"https://colab.research.google.com/assets/colab-badge.svg\" alt=\"Open In Colab\"/></a>"
      ]
    },
    {
      "cell_type": "code",
      "metadata": {
        "id": "szKDGzSjOicP",
        "colab_type": "code",
        "colab": {}
      },
      "source": [
        "#IMPORT LIBRARY YG DIGUNAKAN \n",
        "\n",
        "import tensorflow as tf\n",
        "import numpy as np\n",
        "import math\n",
        "import os\n",
        "import pandas as pd\n",
        "import string\n",
        "import re\n",
        "import io\n",
        "import time\n",
        "import unicodedata\n",
        "from numpy import array, argmax, random, take\n",
        "\n",
        "import keras\n",
        "from keras.models import Model, Sequential\n",
        "from keras.layers import Input, Dense, LSTM, Embedding, RepeatVector, GRU\n",
        "from keras.preprocessing.text import Tokenizer\n",
        "from keras.callbacks import ModelCheckpoint\n",
        "from keras.preprocessing.sequence import pad_sequences\n",
        "from keras.models import load_model\n",
        "from keras import optimizers\n",
        "import matplotlib.pyplot as plt\n",
        "%matplotlib inline\n",
        "\n",
        "from nltk.translate.bleu_score import sentence_bleu\n",
        "from nltk.translate.bleu_score import corpus_bleu"
      ],
      "execution_count": 0,
      "outputs": []
    },
    {
      "cell_type": "markdown",
      "metadata": {
        "id": "f_IgBfoNTkCt",
        "colab_type": "text"
      },
      "source": [
        "## Load Data"
      ]
    },
    {
      "cell_type": "code",
      "metadata": {
        "id": "K3vPUA0NTrXz",
        "colab_type": "code",
        "outputId": "2efa3fb7-ee77-4e0a-e8dc-18074f98d652",
        "colab": {
          "base_uri": "https://localhost:8080/",
          "height": 142
        }
      },
      "source": [
        "from google.colab import drive\n",
        "drive.mount('/gdrive')\n",
        "%cd /gdrive"
      ],
      "execution_count": 0,
      "outputs": [
        {
          "output_type": "stream",
          "text": [
            "Go to this URL in a browser: https://accounts.google.com/o/oauth2/auth?client_id=947318989803-6bn6qk8qdgf4n4g3pfee6491hc0brc4i.apps.googleusercontent.com&redirect_uri=urn%3Aietf%3Awg%3Aoauth%3A2.0%3Aoob&scope=email%20https%3A%2F%2Fwww.googleapis.com%2Fauth%2Fdocs.test%20https%3A%2F%2Fwww.googleapis.com%2Fauth%2Fdrive%20https%3A%2F%2Fwww.googleapis.com%2Fauth%2Fdrive.photos.readonly%20https%3A%2F%2Fwww.googleapis.com%2Fauth%2Fpeopleapi.readonly&response_type=code\n",
            "\n",
            "Enter your authorization code:\n",
            "··········\n",
            "Mounted at /gdrive\n",
            "/gdrive\n"
          ],
          "name": "stdout"
        }
      ]
    },
    {
      "cell_type": "code",
      "metadata": {
        "id": "aQUR6COvUuFJ",
        "colab_type": "code",
        "colab": {}
      },
      "source": [
        "base_path = \"/gdrive/My Drive/CS/\""
      ],
      "execution_count": 0,
      "outputs": []
    },
    {
      "cell_type": "code",
      "metadata": {
        "id": "tpY1Gub3UuiS",
        "colab_type": "code",
        "colab": {}
      },
      "source": [
        "def load_doc(filename):\n",
        "\tfile = open(filename, mode='r', encoding='utf-8')\n",
        "\ttext = file.read()\n",
        "\tfile.close()\n",
        "\treturn text\n",
        "\n",
        "#split ke sentence\n",
        "def to_sentences(doc):\n",
        "\treturn doc.strip().split('\\n')\n",
        "\n",
        "#kalimat yang paling pendek dan panjang\n",
        "def sentence_lengths(sentences):\n",
        "\tlengths = [len(s.split()) for s in sentences]\n",
        "\treturn min(lengths), max(lengths)"
      ],
      "execution_count": 0,
      "outputs": []
    },
    {
      "cell_type": "code",
      "metadata": {
        "id": "UW0r49cIUzlk",
        "colab_type": "code",
        "outputId": "cd52ce02-490b-4ddd-fa20-5098019b4b6b",
        "colab": {
          "base_uri": "https://localhost:8080/",
          "height": 52
        }
      },
      "source": [
        "de = base_path + 'news-commentary-v8.de-en.de'\n",
        "doc_de = load_doc(de)\n",
        "source = to_sentences(doc_de)\n",
        "minlen, maxlen = sentence_lengths(source)\n",
        "print('Deutsch data: sentences=%d, min=%d, max=%d' % (len(source), minlen, maxlen))\n",
        " \n",
        "\n",
        "en = base_path +'news-commentary-v8.de-en.en'\n",
        "doc_en = load_doc(en)\n",
        "dest = to_sentences(doc_en)\n",
        "minlend, maxlend = sentence_lengths(dest)\n",
        "print('English data: sentences=%d, min=%d, max=%d' % (len(dest), minlend, maxlend))"
      ],
      "execution_count": 0,
      "outputs": [
        {
          "output_type": "stream",
          "text": [
            "Deutsch data: sentences=178793, min=0, max=193\n",
            "English data: sentences=179011, min=0, max=171\n"
          ],
          "name": "stdout"
        }
      ]
    },
    {
      "cell_type": "code",
      "metadata": {
        "id": "wiIcpzewU0k0",
        "colab_type": "code",
        "colab": {}
      },
      "source": [
        "#Menggunakan sebagian data\n",
        "de = source[:2000]\n",
        "eng = dest[:2000]"
      ],
      "execution_count": 0,
      "outputs": []
    },
    {
      "cell_type": "markdown",
      "metadata": {
        "id": "qt_ShPRgVAqz",
        "colab_type": "text"
      },
      "source": [
        "###Preprocess"
      ]
    },
    {
      "cell_type": "code",
      "metadata": {
        "id": "96KIvhR6U_0L",
        "colab_type": "code",
        "colab": {}
      },
      "source": [
        "def unicode_to_ascii(s):\n",
        "    return ''.join(c for c in unicodedata.normalize('NFD', s)\n",
        "        if unicodedata.category(c) != 'Mn')\n",
        "\n",
        "\n",
        "def preprocess_sentence(w):\n",
        "    #casefolding\n",
        "    w = unicode_to_ascii(w.lower().strip())\n",
        "\n",
        "    w = re.sub(r\"([?.!,¿])\", r\" \\1 \", w)\n",
        "    w = re.sub(r'[\" \"]+', \" \", w)\n",
        "\n",
        "    # menghilangkan simbol2 kecuali (a-z, A-Z, \".\", \"?\", \"!\", \",\")\n",
        "    w = re.sub(r\"[^a-zA-Z?.!,¿]+\", \" \", w)\n",
        "\n",
        "    w = w.rstrip().strip()\n",
        "    return w"
      ],
      "execution_count": 0,
      "outputs": []
    },
    {
      "cell_type": "code",
      "metadata": {
        "id": "Feghxb8SVN7N",
        "colab_type": "code",
        "colab": {}
      },
      "source": [
        "for i in range(len(de)):\n",
        "    de[i] = preprocess_sentence(de[i])\n",
        "    eng[i] = preprocess_sentence(eng[i])"
      ],
      "execution_count": 0,
      "outputs": []
    },
    {
      "cell_type": "code",
      "metadata": {
        "id": "AadZC_RkVPYD",
        "colab_type": "code",
        "outputId": "33aee02a-605b-48eb-ef49-dce93d33db40",
        "colab": {
          "base_uri": "https://localhost:8080/",
          "height": 72
        }
      },
      "source": [
        "#Contoh setelah di preprocess\n",
        "print(de[-1])\n",
        "print(eng[-1])"
      ],
      "execution_count": 0,
      "outputs": [
        {
          "output_type": "stream",
          "text": [
            "das ergebnis sind gro e handelsungleichgewichte zwischen den eurolandern , ein problem , das durch gro e haushaltsdefizite und hohe staatsverschuldung in sudeuropa und frankreich gro enteils gegenuber auslandischen kreditgebern noch verscharft wird .\n",
            "the result has been large trade imbalances between eurozone countries , a problem compounded by large fiscal deficits and high levels of public debt in southern europe and france much of it owed to foreign creditors .\n"
          ],
          "name": "stdout"
        }
      ]
    },
    {
      "cell_type": "code",
      "metadata": {
        "id": "qm3DZjxTVSU2",
        "colab_type": "code",
        "outputId": "4756664d-91f3-48ef-ffb3-c87970182652",
        "colab": {
          "base_uri": "https://localhost:8080/",
          "height": 281
        }
      },
      "source": [
        "#panjang kalimat\n",
        "eng_l = []\n",
        "de_l = []\n",
        "\n",
        "for i in de:\n",
        "      de_l.append(len(i.split()))\n",
        "\n",
        "for j in eng:\n",
        "      eng_l.append(len(j.split()))\n",
        "\n",
        "length_df = pd.DataFrame({'eng':eng_l, 'deu':de_l})\n",
        "\n",
        "length_df.hist(bins = 30)\n",
        "plt.show()"
      ],
      "execution_count": 0,
      "outputs": [
        {
          "output_type": "display_data",
          "data": {
            "image/png": "[encoded data removed]",
            "text/plain": [
              "<Figure size 432x288 with 2 Axes>"
            ]
          },
          "metadata": {
            "tags": []
          }
        }
      ]
    },
    {
      "cell_type": "code",
      "metadata": {
        "id": "198fpdJ9VYBV",
        "colab_type": "code",
        "outputId": "18d63b82-ea28-4ba3-d129-831bd4d959c6",
        "colab": {
          "base_uri": "https://localhost:8080/",
          "height": 70
        }
      },
      "source": [
        "#Kalimat terpanjang\n",
        "length_df.max()"
      ],
      "execution_count": 0,
      "outputs": [
        {
          "output_type": "execute_result",
          "data": {
            "text/plain": [
              "eng     97\n",
              "deu    102\n",
              "dtype: int64"
            ]
          },
          "metadata": {
            "tags": []
          },
          "execution_count": 10
        }
      ]
    },
    {
      "cell_type": "code",
      "metadata": {
        "id": "fm1W_-qSVaYp",
        "colab_type": "code",
        "colab": {}
      },
      "source": [
        "#TOKENIZER\n",
        "def tokenization(lines):\n",
        "      tokenizer = Tokenizer()\n",
        "      tokenizer.fit_on_texts(lines)\n",
        "      return tokenizer"
      ],
      "execution_count": 0,
      "outputs": []
    },
    {
      "cell_type": "code",
      "metadata": {
        "id": "QPby5HlqVdXS",
        "colab_type": "code",
        "outputId": "a3a63629-d3e2-4e0e-f5b8-5659b48ace84",
        "colab": {
          "base_uri": "https://localhost:8080/",
          "height": 34
        }
      },
      "source": [
        "# english tokenizer\n",
        "eng_tokenizer = tokenization(eng)\n",
        "eng_vocab_size = len(eng_tokenizer.word_index) + 1\n",
        "\n",
        "eng_length = length_df.max()[0]\n",
        "print('English Vocabulary Size: %d' % eng_vocab_size)"
      ],
      "execution_count": 0,
      "outputs": [
        {
          "output_type": "stream",
          "text": [
            "English Vocabulary Size: 6716\n"
          ],
          "name": "stdout"
        }
      ]
    },
    {
      "cell_type": "code",
      "metadata": {
        "id": "9NhSa5gIVer9",
        "colab_type": "code",
        "outputId": "70c009a4-c39d-44d5-b32f-f70f5bdf65df",
        "colab": {
          "base_uri": "https://localhost:8080/",
          "height": 34
        }
      },
      "source": [
        "#german tokenizer\n",
        "deu_tokenizer = tokenization(de)\n",
        "deu_vocab_size = len(deu_tokenizer.word_index) + 1\n",
        "\n",
        "deu_length = length_df.max()[1]\n",
        "print('Deutch Vocabulary Size: %d' % deu_vocab_size)"
      ],
      "execution_count": 0,
      "outputs": [
        {
          "output_type": "stream",
          "text": [
            "Deutch Vocabulary Size: 9733\n"
          ],
          "name": "stdout"
        }
      ]
    },
    {
      "cell_type": "code",
      "metadata": {
        "id": "MEsvYK5NVf60",
        "colab_type": "code",
        "colab": {}
      },
      "source": [
        "#untuk encode sentence\n",
        "def encode_sequences(tokenizer, length, lines):\n",
        "         # integer encode sequences\n",
        "         seq = tokenizer.texts_to_sequences(lines)\n",
        "         # pad sequences with 0 values\n",
        "         seq = pad_sequences(seq, maxlen=length, padding='post')\n",
        "         return seq"
      ],
      "execution_count": 0,
      "outputs": []
    },
    {
      "cell_type": "code",
      "metadata": {
        "id": "QwkeqEAiVk86",
        "colab_type": "code",
        "colab": {}
      },
      "source": [
        "#data english and german in pairs\n",
        "de_eng = np.column_stack((de,eng))"
      ],
      "execution_count": 0,
      "outputs": []
    },
    {
      "cell_type": "markdown",
      "metadata": {
        "id": "8uFYnFnDVrik",
        "colab_type": "text"
      },
      "source": [
        "## Model Neural Network"
      ]
    },
    {
      "cell_type": "code",
      "metadata": {
        "id": "ACxiYI97Vo3_",
        "colab_type": "code",
        "colab": {}
      },
      "source": [
        "## Split data\n",
        "from sklearn.model_selection import train_test_split\n",
        "\n",
        "train, test = train_test_split(de_eng, test_size=0.1, random_state = 12)"
      ],
      "execution_count": 0,
      "outputs": []
    },
    {
      "cell_type": "code",
      "metadata": {
        "id": "kNt0qN_IV59Z",
        "colab_type": "code",
        "colab": {}
      },
      "source": [
        "#Data untuk training\n",
        "trainX = encode_sequences(deu_tokenizer, deu_length, train[:, 0])\n",
        "trainY = encode_sequences(eng_tokenizer, eng_length, train[:, 1])\n",
        "\n",
        "#Data untuk testing\n",
        "testX = encode_sequences(deu_tokenizer, deu_length, test[:, 0])\n",
        "testY = encode_sequences(eng_tokenizer, eng_length, test[:, 1])"
      ],
      "execution_count": 0,
      "outputs": []
    },
    {
      "cell_type": "code",
      "metadata": {
        "id": "Snsgp1ngWKQ0",
        "colab_type": "code",
        "colab": {}
      },
      "source": [
        "class TimeHistory(keras.callbacks.Callback):\n",
        "    def on_train_begin(self, logs={}):\n",
        "        self.times = []\n",
        "\n",
        "    def on_epoch_begin(self, batch, logs={}):\n",
        "        self.epoch_time_start = time.time()\n",
        "\n",
        "    def on_epoch_end(self, batch, logs={}):\n",
        "        self.times.append(time.time() - self.epoch_time_start)"
      ],
      "execution_count": 0,
      "outputs": []
    },
    {
      "cell_type": "markdown",
      "metadata": {
        "id": "EOKJCtU3V_8e",
        "colab_type": "text"
      },
      "source": [
        "### LSTM"
      ]
    },
    {
      "cell_type": "code",
      "metadata": {
        "id": "1QL5jSFQV-Me",
        "colab_type": "code",
        "colab": {}
      },
      "source": [
        "def define_model_LSTM(in_vocab,out_vocab, in_timesteps,out_timesteps,units):\n",
        "      model = Sequential()\n",
        "      model.add(Embedding(in_vocab, units, input_length=in_timesteps, mask_zero=True))\n",
        "      model.add(LSTM(units))\n",
        "      model.add(RepeatVector(out_timesteps))\n",
        "      model.add(LSTM(units, return_sequences=True))\n",
        "      model.add(Dense(out_vocab, activation='softmax'))\n",
        "      return model"
      ],
      "execution_count": 0,
      "outputs": []
    },
    {
      "cell_type": "code",
      "metadata": {
        "id": "b7beFXk2WDqV",
        "colab_type": "code",
        "colab": {}
      },
      "source": [
        "# model compilation\n",
        "model = define_model_LSTM(deu_vocab_size, eng_vocab_size, deu_length, eng_length, 256)\n",
        "rms = optimizers.RMSprop(lr=0.001)\n",
        "model.compile(optimizer=rms, loss='sparse_categorical_crossentropy')"
      ],
      "execution_count": 0,
      "outputs": []
    },
    {
      "cell_type": "code",
      "metadata": {
        "id": "NC2ip7ODWFYS",
        "colab_type": "code",
        "outputId": "64b9c4ed-39a6-461a-bcac-4fe5f8fc6ed5",
        "colab": {
          "base_uri": "https://localhost:8080/",
          "height": 316
        }
      },
      "source": [
        "model.summary()"
      ],
      "execution_count": 0,
      "outputs": [
        {
          "output_type": "stream",
          "text": [
            "_________________________________________________________________\n",
            "Layer (type)                 Output Shape              Param #   \n",
            "=================================================================\n",
            "embedding_1 (Embedding)      (None, 102, 512)          4983296   \n",
            "_________________________________________________________________\n",
            "lstm_1 (LSTM)                (None, 512)               2099200   \n",
            "_________________________________________________________________\n",
            "repeat_vector_1 (RepeatVecto (None, 97, 512)           0         \n",
            "_________________________________________________________________\n",
            "lstm_2 (LSTM)                (None, 97, 512)           2099200   \n",
            "_________________________________________________________________\n",
            "dense_1 (Dense)              (None, 97, 6716)          3445308   \n",
            "=================================================================\n",
            "Total params: 12,627,004\n",
            "Trainable params: 12,627,004\n",
            "Non-trainable params: 0\n",
            "_________________________________________________________________\n"
          ],
          "name": "stdout"
        }
      ]
    },
    {
      "cell_type": "code",
      "metadata": {
        "id": "GocyHDXJWG7S",
        "colab_type": "code",
        "outputId": "2566c4b0-4d7a-4ba7-9324-caab5eb3c7e2",
        "colab": {
          "base_uri": "https://localhost:8080/",
          "height": 2146
        }
      },
      "source": [
        "filename = base_path + 'modellstm.h5'\n",
        "checkpoint = ModelCheckpoint(filename, monitor='val_loss', verbose=1, save_best_only=True, mode='min')\n",
        "time_callback = TimeHistory()\n",
        "\n",
        "# train model\n",
        "history = model.fit(trainX, trainY.reshape(trainY.shape[0], trainY.shape[1], 1),\n",
        "                    epochs=30, batch_size=256, validation_split = 0.2, callbacks=[checkpoint, time_callback],\n",
        "                    verbose=1)\n",
        "\n",
        "\n",
        "times = time_callback.times"
      ],
      "execution_count": 0,
      "outputs": [
        {
          "output_type": "stream",
          "text": [
            "Train on 1440 samples, validate on 360 samples\n",
            "Epoch 1/30\n",
            "1440/1440 [==============================] - 95s 66ms/step - loss: 2.2863 - val_loss: 2.1540\n",
            "\n",
            "Epoch 00001: val_loss improved from inf to 2.15403, saving model to /gdrive/My Drive/CS/modellstm.h5\n",
            "Epoch 2/30\n",
            "1440/1440 [==============================] - 95s 66ms/step - loss: 2.1566 - val_loss: 2.1045\n",
            "\n",
            "Epoch 00002: val_loss improved from 2.15403 to 2.10454, saving model to /gdrive/My Drive/CS/modellstm.h5\n",
            "Epoch 3/30\n",
            "1440/1440 [==============================] - 95s 66ms/step - loss: 2.1071 - val_loss: 2.1430\n",
            "\n",
            "Epoch 00003: val_loss did not improve from 2.10454\n",
            "Epoch 4/30\n",
            "1440/1440 [==============================] - 95s 66ms/step - loss: 2.1243 - val_loss: 2.0853\n",
            "\n",
            "Epoch 00004: val_loss improved from 2.10454 to 2.08525, saving model to /gdrive/My Drive/CS/modellstm.h5\n",
            "Epoch 5/30\n",
            "1440/1440 [==============================] - 95s 66ms/step - loss: 2.0765 - val_loss: 2.4683\n",
            "\n",
            "Epoch 00005: val_loss did not improve from 2.08525\n",
            "Epoch 6/30\n",
            "1440/1440 [==============================] - 95s 66ms/step - loss: 2.1334 - val_loss: 1.9839\n",
            "\n",
            "Epoch 00006: val_loss improved from 2.08525 to 1.98393, saving model to /gdrive/My Drive/CS/modellstm.h5\n",
            "Epoch 7/30\n",
            "1440/1440 [==============================] - 95s 66ms/step - loss: 2.0589 - val_loss: 1.9532\n",
            "\n",
            "Epoch 00007: val_loss improved from 1.98393 to 1.95315, saving model to /gdrive/My Drive/CS/modellstm.h5\n",
            "Epoch 8/30\n",
            "1440/1440 [==============================] - 96s 66ms/step - loss: 2.2274 - val_loss: 2.0180\n",
            "\n",
            "Epoch 00008: val_loss did not improve from 1.95315\n",
            "Epoch 9/30\n",
            "1440/1440 [==============================] - 95s 66ms/step - loss: 2.0176 - val_loss: 2.0097\n",
            "\n",
            "Epoch 00009: val_loss did not improve from 1.95315\n",
            "Epoch 10/30\n",
            "1440/1440 [==============================] - 95s 66ms/step - loss: 1.9957 - val_loss: 2.0789\n",
            "\n",
            "Epoch 00010: val_loss did not improve from 1.95315\n",
            "Epoch 11/30\n",
            "1440/1440 [==============================] - 95s 66ms/step - loss: 2.1159 - val_loss: 2.1779\n",
            "\n",
            "Epoch 00011: val_loss did not improve from 1.95315\n",
            "Epoch 12/30\n",
            "1440/1440 [==============================] - 95s 66ms/step - loss: 1.9920 - val_loss: 2.0185\n",
            "\n",
            "Epoch 00012: val_loss did not improve from 1.95315\n",
            "Epoch 13/30\n",
            "1440/1440 [==============================] - 95s 66ms/step - loss: 1.9911 - val_loss: 2.1441\n",
            "\n",
            "Epoch 00013: val_loss did not improve from 1.95315\n",
            "Epoch 14/30\n",
            "1440/1440 [==============================] - 95s 66ms/step - loss: 1.9931 - val_loss: 1.9888\n",
            "\n",
            "Epoch 00014: val_loss did not improve from 1.95315\n",
            "Epoch 15/30\n",
            "1440/1440 [==============================] - 95s 66ms/step - loss: 1.9375 - val_loss: 1.8647\n",
            "\n",
            "Epoch 00015: val_loss improved from 1.95315 to 1.86466, saving model to /gdrive/My Drive/CS/modellstm.h5\n",
            "Epoch 16/30\n",
            "1440/1440 [==============================] - 95s 66ms/step - loss: 1.9834 - val_loss: 2.0221\n",
            "\n",
            "Epoch 00016: val_loss did not improve from 1.86466\n",
            "Epoch 17/30\n",
            "1440/1440 [==============================] - 96s 66ms/step - loss: 1.9069 - val_loss: 1.8882\n",
            "\n",
            "Epoch 00017: val_loss did not improve from 1.86466\n",
            "Epoch 18/30\n",
            "1440/1440 [==============================] - 95s 66ms/step - loss: 1.8978 - val_loss: 2.1445\n",
            "\n",
            "Epoch 00018: val_loss did not improve from 1.86466\n",
            "Epoch 19/30\n",
            "1440/1440 [==============================] - 95s 66ms/step - loss: 1.9674 - val_loss: 2.0164\n",
            "\n",
            "Epoch 00019: val_loss did not improve from 1.86466\n",
            "Epoch 20/30\n",
            "1440/1440 [==============================] - 96s 67ms/step - loss: 1.9219 - val_loss: 1.9209\n",
            "\n",
            "Epoch 00020: val_loss did not improve from 1.86466\n",
            "Epoch 21/30\n",
            "1440/1440 [==============================] - 95s 66ms/step - loss: 1.9005 - val_loss: 1.8520\n",
            "\n",
            "Epoch 00021: val_loss improved from 1.86466 to 1.85204, saving model to /gdrive/My Drive/CS/modellstm.h5\n",
            "Epoch 22/30\n",
            "1440/1440 [==============================] - 95s 66ms/step - loss: 1.9858 - val_loss: 1.9324\n",
            "\n",
            "Epoch 00022: val_loss did not improve from 1.85204\n",
            "Epoch 23/30\n",
            "1440/1440 [==============================] - 95s 66ms/step - loss: 1.8303 - val_loss: 1.8756\n",
            "\n",
            "Epoch 00023: val_loss did not improve from 1.85204\n",
            "Epoch 24/30\n",
            "1440/1440 [==============================] - 96s 67ms/step - loss: 1.7914 - val_loss: 1.8514\n",
            "\n",
            "Epoch 00024: val_loss improved from 1.85204 to 1.85136, saving model to /gdrive/My Drive/CS/modellstm.h5\n",
            "Epoch 25/30\n",
            "1440/1440 [==============================] - 95s 66ms/step - loss: 1.8452 - val_loss: 1.9279\n",
            "\n",
            "Epoch 00025: val_loss did not improve from 1.85136\n",
            "Epoch 26/30\n",
            "1440/1440 [==============================] - 95s 66ms/step - loss: 1.7749 - val_loss: 1.8744\n",
            "\n",
            "Epoch 00026: val_loss did not improve from 1.85136\n",
            "Epoch 27/30\n",
            "1440/1440 [==============================] - 96s 66ms/step - loss: 1.7714 - val_loss: 1.8839\n",
            "\n",
            "Epoch 00027: val_loss did not improve from 1.85136\n",
            "Epoch 28/30\n",
            "1440/1440 [==============================] - 95s 66ms/step - loss: 1.7700 - val_loss: 1.8777\n",
            "\n",
            "Epoch 00028: val_loss did not improve from 1.85136\n",
            "Epoch 29/30\n",
            "1440/1440 [==============================] - 95s 66ms/step - loss: 1.7511 - val_loss: 1.9192\n",
            "\n",
            "Epoch 00029: val_loss did not improve from 1.85136\n",
            "Epoch 30/30\n",
            "1440/1440 [==============================] - 95s 66ms/step - loss: 1.7405 - val_loss: 1.9909\n",
            "\n",
            "Epoch 00030: val_loss did not improve from 1.85136\n"
          ],
          "name": "stdout"
        }
      ]
    },
    {
      "cell_type": "code",
      "metadata": {
        "id": "XrdxGcdIWPTo",
        "colab_type": "code",
        "outputId": "402e55e7-2edd-4bd4-df38-27049eb1584b",
        "colab": {
          "base_uri": "https://localhost:8080/",
          "height": 295
        }
      },
      "source": [
        "### Waktu training\n",
        "plt.plot(times)\n",
        "plt.title('Time for Training LSTM')\n",
        "plt.ylabel(\"Time (s)\")\n",
        "plt.xlabel(\"Epoch\")\n",
        "plt.show()"
      ],
      "execution_count": 0,
      "outputs": [
        {
          "output_type": "display_data",
          "data": {
            "image/png": "[encoded data removed]",
            "text/plain": [
              "<Figure size 432x288 with 1 Axes>"
            ]
          },
          "metadata": {
            "tags": []
          }
        }
      ]
    },
    {
      "cell_type": "code",
      "metadata": {
        "id": "Y5isTNU8WSSG",
        "colab_type": "code",
        "outputId": "5aefe813-da5a-4486-93eb-cbdb4b129f25",
        "colab": {
          "base_uri": "https://localhost:8080/",
          "height": 281
        }
      },
      "source": [
        "### loss function\n",
        "plt.plot(history.history['loss'])\n",
        "plt.plot(history.history['val_loss'])\n",
        "plt.legend(['train','validation'])\n",
        "plt.title('LSTM')\n",
        "plt.show()"
      ],
      "execution_count": 0,
      "outputs": [
        {
          "output_type": "display_data",
          "data": {
            "image/png": "[encoded data removed]",
            "text/plain": [
              "<Figure size 432x288 with 1 Axes>"
            ]
          },
          "metadata": {
            "tags": []
          }
        }
      ]
    },
    {
      "cell_type": "markdown",
      "metadata": {
        "id": "ns3XhqsWWgEX",
        "colab_type": "text"
      },
      "source": [
        "### GRU"
      ]
    },
    {
      "cell_type": "code",
      "metadata": {
        "id": "nqAvT-BZtV9C",
        "colab_type": "code",
        "colab": {}
      },
      "source": [
        "def define_model_GRU(in_vocab,out_vocab, in_timesteps,out_timesteps,units):\n",
        "      model = Sequential()\n",
        "      model.add(Embedding(in_vocab, units, input_length=in_timesteps, mask_zero=True))\n",
        "      model.add(GRU(units))\n",
        "      model.add(RepeatVector(out_timesteps))\n",
        "      model.add(GRU(units, return_sequences=True))\n",
        "      model.add(Dense(out_vocab, activation='softmax'))\n",
        "      return model"
      ],
      "execution_count": 0,
      "outputs": []
    },
    {
      "cell_type": "code",
      "metadata": {
        "id": "k7B-LyJ6W4Ng",
        "colab_type": "code",
        "outputId": "65039a20-ef34-492e-d015-95497f785409",
        "colab": {
          "base_uri": "https://localhost:8080/",
          "height": 316
        }
      },
      "source": [
        "modelgru = define_model_GRU(deu_vocab_size, eng_vocab_size, deu_length, eng_length, 256)\n",
        "rms = optimizers.RMSprop(lr=0.001)\n",
        "modelgru.compile(optimizer=rms, loss='sparse_categorical_crossentropy')\n",
        "\n",
        "modelgru.summary()"
      ],
      "execution_count": 0,
      "outputs": [
        {
          "output_type": "stream",
          "text": [
            "_________________________________________________________________\n",
            "Layer (type)                 Output Shape              Param #   \n",
            "=================================================================\n",
            "embedding_4 (Embedding)      (None, 102, 256)          2491648   \n",
            "_________________________________________________________________\n",
            "gru_1 (GRU)                  (None, 256)               393984    \n",
            "_________________________________________________________________\n",
            "repeat_vector_4 (RepeatVecto (None, 97, 256)           0         \n",
            "_________________________________________________________________\n",
            "gru_2 (GRU)                  (None, 97, 256)           393984    \n",
            "_________________________________________________________________\n",
            "dense_4 (Dense)              (None, 97, 6716)          1726012   \n",
            "=================================================================\n",
            "Total params: 5,005,628\n",
            "Trainable params: 5,005,628\n",
            "Non-trainable params: 0\n",
            "_________________________________________________________________\n"
          ],
          "name": "stdout"
        }
      ]
    },
    {
      "cell_type": "code",
      "metadata": {
        "id": "4zO7ZMH4XKdj",
        "colab_type": "code",
        "outputId": "b58d295a-309d-470c-c3f6-d64b5b9634d5",
        "colab": {
          "base_uri": "https://localhost:8080/",
          "height": 2146
        }
      },
      "source": [
        "filename = base_path + 'modelgru.h5'\n",
        "checkpoint = ModelCheckpoint(filename, monitor='val_loss', verbose=1, save_best_only=True, mode='min')\n",
        "time_callbackgru = TimeHistory()\n",
        "\n",
        "# train model\n",
        "historygru = model.fit(trainX, trainY.reshape(trainY.shape[0], trainY.shape[1], 1),\n",
        "                    epochs=30, batch_size=256, validation_split = 0.2, callbacks=[checkpoint, time_callbackgru],\n",
        "                    verbose=1)\n",
        "\n",
        "\n",
        "timesgru = time_callbackgru.times"
      ],
      "execution_count": 0,
      "outputs": [
        {
          "output_type": "stream",
          "text": [
            "Train on 1440 samples, validate on 360 samples\n",
            "Epoch 1/30\n",
            "1440/1440 [==============================] - 96s 67ms/step - loss: 1.7517 - val_loss: 1.9450\n",
            "\n",
            "Epoch 00001: val_loss improved from inf to 1.94504, saving model to /gdrive/My Drive/CS/modelgru.h5\n",
            "Epoch 2/30\n",
            "1440/1440 [==============================] - 96s 66ms/step - loss: 1.7465 - val_loss: 1.9788\n",
            "\n",
            "Epoch 00002: val_loss did not improve from 1.94504\n",
            "Epoch 3/30\n",
            "1440/1440 [==============================] - 95s 66ms/step - loss: 1.7377 - val_loss: 1.9877\n",
            "\n",
            "Epoch 00003: val_loss did not improve from 1.94504\n",
            "Epoch 4/30\n",
            "1440/1440 [==============================] - 95s 66ms/step - loss: 1.7246 - val_loss: 1.9252\n",
            "\n",
            "Epoch 00004: val_loss improved from 1.94504 to 1.92521, saving model to /gdrive/My Drive/CS/modelgru.h5\n",
            "Epoch 5/30\n",
            "1440/1440 [==============================] - 95s 66ms/step - loss: 1.7173 - val_loss: 1.8973\n",
            "\n",
            "Epoch 00005: val_loss improved from 1.92521 to 1.89731, saving model to /gdrive/My Drive/CS/modelgru.h5\n",
            "Epoch 6/30\n",
            "1440/1440 [==============================] - 95s 66ms/step - loss: 1.7445 - val_loss: 1.8890\n",
            "\n",
            "Epoch 00006: val_loss improved from 1.89731 to 1.88900, saving model to /gdrive/My Drive/CS/modelgru.h5\n",
            "Epoch 7/30\n",
            "1440/1440 [==============================] - 95s 66ms/step - loss: 1.7070 - val_loss: 1.9836\n",
            "\n",
            "Epoch 00007: val_loss did not improve from 1.88900\n",
            "Epoch 8/30\n",
            "1440/1440 [==============================] - 95s 66ms/step - loss: 1.6930 - val_loss: 1.8838\n",
            "\n",
            "Epoch 00008: val_loss improved from 1.88900 to 1.88380, saving model to /gdrive/My Drive/CS/modelgru.h5\n",
            "Epoch 9/30\n",
            "1440/1440 [==============================] - 95s 66ms/step - loss: 1.7158 - val_loss: 1.8425\n",
            "\n",
            "Epoch 00009: val_loss improved from 1.88380 to 1.84249, saving model to /gdrive/My Drive/CS/modelgru.h5\n",
            "Epoch 10/30\n",
            "1440/1440 [==============================] - 95s 66ms/step - loss: 1.7263 - val_loss: 1.8555\n",
            "\n",
            "Epoch 00010: val_loss did not improve from 1.84249\n",
            "Epoch 11/30\n",
            "1440/1440 [==============================] - 96s 67ms/step - loss: 1.6625 - val_loss: 1.9237\n",
            "\n",
            "Epoch 00011: val_loss did not improve from 1.84249\n",
            "Epoch 12/30\n",
            "1440/1440 [==============================] - 96s 67ms/step - loss: 1.6763 - val_loss: 1.8761\n",
            "\n",
            "Epoch 00012: val_loss did not improve from 1.84249\n",
            "Epoch 13/30\n",
            "1440/1440 [==============================] - 96s 67ms/step - loss: 1.6960 - val_loss: 1.8561\n",
            "\n",
            "Epoch 00013: val_loss did not improve from 1.84249\n",
            "Epoch 14/30\n",
            "1440/1440 [==============================] - 96s 67ms/step - loss: 1.6563 - val_loss: 1.9084\n",
            "\n",
            "Epoch 00014: val_loss did not improve from 1.84249\n",
            "Epoch 15/30\n",
            "1440/1440 [==============================] - 96s 67ms/step - loss: 1.6738 - val_loss: 1.8850\n",
            "\n",
            "Epoch 00015: val_loss did not improve from 1.84249\n",
            "Epoch 16/30\n",
            "1440/1440 [==============================] - 96s 66ms/step - loss: 1.6500 - val_loss: 1.9859\n",
            "\n",
            "Epoch 00016: val_loss did not improve from 1.84249\n",
            "Epoch 17/30\n",
            "1440/1440 [==============================] - 96s 67ms/step - loss: 1.6614 - val_loss: 1.8755\n",
            "\n",
            "Epoch 00017: val_loss did not improve from 1.84249\n",
            "Epoch 18/30\n",
            "1440/1440 [==============================] - 96s 67ms/step - loss: 1.6763 - val_loss: 1.8593\n",
            "\n",
            "Epoch 00018: val_loss did not improve from 1.84249\n",
            "Epoch 19/30\n",
            "1440/1440 [==============================] - 96s 66ms/step - loss: 1.6133 - val_loss: 2.0000\n",
            "\n",
            "Epoch 00019: val_loss did not improve from 1.84249\n",
            "Epoch 20/30\n",
            "1440/1440 [==============================] - 96s 67ms/step - loss: 1.7118 - val_loss: 1.8852\n",
            "\n",
            "Epoch 00020: val_loss did not improve from 1.84249\n",
            "Epoch 21/30\n",
            "1440/1440 [==============================] - 96s 67ms/step - loss: 1.6300 - val_loss: 1.9182\n",
            "\n",
            "Epoch 00021: val_loss did not improve from 1.84249\n",
            "Epoch 22/30\n",
            "1440/1440 [==============================] - 96s 66ms/step - loss: 1.6279 - val_loss: 1.8983\n",
            "\n",
            "Epoch 00022: val_loss did not improve from 1.84249\n",
            "Epoch 23/30\n",
            "1440/1440 [==============================] - 96s 66ms/step - loss: 1.6455 - val_loss: 1.8873\n",
            "\n",
            "Epoch 00023: val_loss did not improve from 1.84249\n",
            "Epoch 24/30\n",
            "1440/1440 [==============================] - 96s 67ms/step - loss: 1.6078 - val_loss: 2.0261\n",
            "\n",
            "Epoch 00024: val_loss did not improve from 1.84249\n",
            "Epoch 25/30\n",
            "1440/1440 [==============================] - 96s 67ms/step - loss: 1.6381 - val_loss: 1.8838\n",
            "\n",
            "Epoch 00025: val_loss did not improve from 1.84249\n",
            "Epoch 26/30\n",
            "1440/1440 [==============================] - 95s 66ms/step - loss: 1.6254 - val_loss: 1.9039\n",
            "\n",
            "Epoch 00026: val_loss did not improve from 1.84249\n",
            "Epoch 27/30\n",
            "1440/1440 [==============================] - 96s 66ms/step - loss: 1.5929 - val_loss: 1.9728\n",
            "\n",
            "Epoch 00027: val_loss did not improve from 1.84249\n",
            "Epoch 28/30\n",
            "1440/1440 [==============================] - 95s 66ms/step - loss: 1.6281 - val_loss: 1.9271\n",
            "\n",
            "Epoch 00028: val_loss did not improve from 1.84249\n",
            "Epoch 29/30\n",
            "1440/1440 [==============================] - 95s 66ms/step - loss: 1.6026 - val_loss: 1.9337\n",
            "\n",
            "Epoch 00029: val_loss did not improve from 1.84249\n",
            "Epoch 30/30\n",
            "1440/1440 [==============================] - 96s 67ms/step - loss: 1.5997 - val_loss: 1.9231\n",
            "\n",
            "Epoch 00030: val_loss did not improve from 1.84249\n"
          ],
          "name": "stdout"
        }
      ]
    },
    {
      "cell_type": "code",
      "metadata": {
        "id": "Y_OofmW-XXtY",
        "colab_type": "code",
        "outputId": "ed99560d-1577-4f18-f750-01eec8ed689c",
        "colab": {
          "base_uri": "https://localhost:8080/",
          "height": 295
        }
      },
      "source": [
        "### Waktu training\n",
        "plt.plot(timesgru)\n",
        "plt.title('Time for Training GRU')\n",
        "plt.ylabel(\"Time (s)\")\n",
        "plt.xlabel(\"Epoch\")\n",
        "plt.show()"
      ],
      "execution_count": 0,
      "outputs": [
        {
          "output_type": "display_data",
          "data": {
            "image/png": "[encoded data removed]",
            "text/plain": [
              "<Figure size 432x288 with 1 Axes>"
            ]
          },
          "metadata": {
            "tags": []
          }
        }
      ]
    },
    {
      "cell_type": "code",
      "metadata": {
        "id": "iwYxDkQVXVAm",
        "colab_type": "code",
        "outputId": "33103a7a-1934-4c51-9ebe-4d1d1f7a1d9e",
        "colab": {
          "base_uri": "https://localhost:8080/",
          "height": 281
        }
      },
      "source": [
        "# Loss function\n",
        "plt.plot(historygru.history['loss'])\n",
        "plt.plot(historygru.history['val_loss'])\n",
        "plt.legend(['train','validation'])\n",
        "plt.title('GRU')\n",
        "plt.show()"
      ],
      "execution_count": 0,
      "outputs": [
        {
          "output_type": "display_data",
          "data": {
            "image/png": "[encoded data removed]",
            "text/plain": [
              "<Figure size 432x288 with 1 Axes>"
            ]
          },
          "metadata": {
            "tags": []
          }
        }
      ]
    },
    {
      "cell_type": "markdown",
      "metadata": {
        "id": "FyQ98VpLY6DV",
        "colab_type": "text"
      },
      "source": [
        "## Evaluasi"
      ]
    },
    {
      "cell_type": "code",
      "metadata": {
        "id": "GQrk-P_NY5bI",
        "colab_type": "code",
        "colab": {}
      },
      "source": [
        "def word_for_id(integer, tokenizer):\n",
        "\tfor word, index in tokenizer.word_index.items():\n",
        "\t\tif index == integer:\n",
        "\t\t\treturn word\n",
        "\treturn None\n",
        "\n",
        "def predict_sequence(model, tokenizer, source):\n",
        "\tprediction = model.predict(source, verbose=0)[0]\n",
        "\tintegers = [argmax(vector) for vector in prediction]\n",
        "\ttarget = list()\n",
        "\tfor i in integers:\n",
        "\t\tword = word_for_id(i, tokenizer)\n",
        "\t\tif word is None:\n",
        "\t\t\tbreak\n",
        "\t\ttarget.append(word)\n",
        "\treturn ' '.join(target)"
      ],
      "execution_count": 0,
      "outputs": []
    },
    {
      "cell_type": "code",
      "metadata": {
        "id": "ZpV3qCbuY-FW",
        "colab_type": "code",
        "colab": {}
      },
      "source": [
        "def evaluate_model(model, tokenizer, sources, raw_dataset):\n",
        "  actual, predicted = list(), list()\n",
        "  for i, source in enumerate(sources):\n",
        "\t\t# translate encoded source text\n",
        "    source = source.reshape((1, source.shape[0]))\n",
        "    translation = predict_sequence(model, eng_tokenizer, source)\n",
        "    raw_src,raw_target = raw_dataset[i]\n",
        "    if i < 10:\n",
        "      print('src=[%s], target=[%s], predicted=[%s]' % (raw_src, raw_target, translation))\n",
        "    actual.append([raw_target.split()])\n",
        "    predicted.append(translation.split())\n",
        "    asli.append(raw_target)\n",
        "    pred.append(translation)\n",
        "\t# calculate BLEU score\n",
        "  print('BLEU-1: %f' % corpus_bleu(actual, predicted, weights=(1.0, 0, 0, 0)))\n",
        "  print('BLEU-2: %f' % corpus_bleu(actual, predicted, weights=(0.5, 0.5, 0, 0)))\n",
        "  print('BLEU-3: %f' % corpus_bleu(actual, predicted, weights=(0.3, 0.3, 0.3, 0)))\n",
        "  print('BLEU-4: %f' % corpus_bleu(actual, predicted, weights=(0.25, 0.25, 0.25, 0.25)))"
      ],
      "execution_count": 0,
      "outputs": []
    },
    {
      "cell_type": "markdown",
      "metadata": {
        "id": "V504ajnyZZDv",
        "colab_type": "text"
      },
      "source": [
        "### LSTM"
      ]
    },
    {
      "cell_type": "code",
      "metadata": {
        "id": "WL9ILkURZKfv",
        "colab_type": "code",
        "outputId": "9a53252f-bc3f-40b8-fe95-80a4f92711df",
        "colab": {
          "base_uri": "https://localhost:8080/",
          "height": 354
        }
      },
      "source": [
        "asli, pred = list(), list()\n",
        "evaluate_model(model, deu_tokenizer, testX, test)"
      ],
      "execution_count": 0,
      "outputs": [
        {
          "output_type": "stream",
          "text": [
            "src=[wir haben im rahmen unserer analyse z . b . die vorteile untersucht , die sich kurzfristig aus starker zielgerichteten strategien ergeben wurden dem kauf muckenresistenter moskitonetze und oraler malariamedikamente zur rehydration von kindern in den armsten vom klimawandel betroffenen landern .], target=[our analysis investigated , for example , the merits of more targeted policies for the near term purchasing mosquito resistant bed nets and oral re hydration malaria therapy for children in the poorest nations affected by climate change .], predicted=[the the the the the the the the the the the the the the the the the the the the the the the the the the the]\n",
            "src=[new york ist dies das zeitalter der verschworungstheorien ?], target=[new york is this the age of the conspiracy theory ?], predicted=[the the is is the the the]\n",
            "src=[ein defizitabbau durch einschnitte bei der finanzierung von bildung , infrastruktur und forschung und entwicklung ahnelt dem versuch , abzunehmen , indem man sich drei finger abschneidet .], target=[reducing the deficit by cutting funds for education , infrastructure , and research and development is akin to trying to lose weight by cutting off three fingers .], predicted=[the the the the the the the the the the the the the the the the the the the the the the the the the the the]\n",
            "src=[in einer anzahl von landern , darunter danemark , die niederlande , die usa und belgien , gibt es seit langem haushaltswachter wie etwa das us congressional budget office cbo .], target=[a number of countries , including denmark , the netherlands , the us , and belgium , have long standing fiscal watchdog agencies , such as the us congressional budget office cbo .], predicted=[the the the the the the the the the the the the the the the the the the the the the the the the the the]\n",
            "src=[im gegensatz dazu hatte das militar vorher offentliche kritik an akp initiativen zum thema zypern geubt .], target=[by contrast , the military had earlier publicly criticized akp initiatives on cyprus .], predicted=[the the the the the the the the the the the the the]\n",
            "src=[genau aus diesem grund benotigen wir auch eine weit reichende gemeinsame ethische basis .], target=[precisely for this reason , it also requires a broadly shared ethical basis .], predicted=[but the the the the the the the the the the the the the the the]\n",
            "src=[das stopfte ein teil des schlupflochs im vertrag , ohne diesen zu andern .], target=[that plugged part of the loophole in the treaty without amending it .], predicted=[the the the the the the the the the the the the the]\n",
            "src=[stattessen mussen wir uns unmittelbar auf die starkung von investitionen und export in volkswirtschaften mit leistungsbilanzdefiziten wie frankreich , italien und spanien und gro britannien und auf die ankurbelung des privaten verbrauchs in uberschusslandern wie deutschland und den niederlanden konzentrieren .], target=[instead , the immediate focus needs to be on boosting investment and exports in economies with a current account deficit such as france , italy , and spain and the united kingdom and stimulating consumption in surplus countries such as germany and the netherlands .], predicted=[the the the the the the the the the the the the the the the the the the the the the the the the the the]\n",
            "src=[es gab allerdings keine beweise , dass die weiter verstreute asche , die von island nach europa hinuber wehte ahnliche probleme verursachen wurde .], target=[but there was no evidence that the more widely dispersed ash blowing over europe from iceland would cause similar problems .], predicted=[the the the the the the the the the the the the the the the the the the the the the]\n",
            "src=[es fordert die wettbewerbsfahigkeit , den landern die moglichkeit zu geben , in diesen bereichen ihre eigene politik zu verfolgen .], target=[allowing countries to pursue their own policies in these areas encourages competitiveness .], predicted=[the the the the the the the the the the the the the the]\n",
            "BLEU-1: 0.057859\n",
            "BLEU-2: 0.003510\n",
            "BLEU-3: 0.031007\n",
            "BLEU-4: 0.053458\n"
          ],
          "name": "stdout"
        },
        {
          "output_type": "stream",
          "text": [
            "/usr/local/lib/python3.6/dist-packages/nltk/translate/bleu_score.py:490: UserWarning: \n",
            "Corpus/Sentence contains 0 counts of 3-gram overlaps.\n",
            "BLEU scores might be undesirable; use SmoothingFunction().\n",
            "  warnings.warn(_msg)\n"
          ],
          "name": "stderr"
        }
      ]
    },
    {
      "cell_type": "code",
      "metadata": {
        "id": "6Gqy0NfhZDn9",
        "colab_type": "code",
        "colab": {}
      },
      "source": [
        "pred_df_lstm = pd.DataFrame({'actual' : asli, 'predicted' : pred})\n",
        "pred_df_lstm.to_csv(base_path + 'hasillstm.csv')"
      ],
      "execution_count": 0,
      "outputs": []
    },
    {
      "cell_type": "code",
      "metadata": {
        "id": "oN__CJC1tmdU",
        "colab_type": "code",
        "outputId": "29dcbbeb-8987-4967-d0be-2b395a63d5d2",
        "colab": {
          "base_uri": "https://localhost:8080/",
          "height": 195
        }
      },
      "source": [
        "pred_df_lstm.tail()"
      ],
      "execution_count": 0,
      "outputs": [
        {
          "output_type": "execute_result",
          "data": {
            "text/html": [
              "<div>\n",
              "<style scoped>\n",
              "    .dataframe tbody tr th:only-of-type {\n",
              "        vertical-align: middle;\n",
              "    }\n",
              "\n",
              "    .dataframe tbody tr th {\n",
              "        vertical-align: top;\n",
              "    }\n",
              "\n",
              "    .dataframe thead th {\n",
              "        text-align: right;\n",
              "    }\n",
              "</style>\n",
              "<table border=\"1\" class=\"dataframe\">\n",
              "  <thead>\n",
              "    <tr style=\"text-align: right;\">\n",
              "      <th></th>\n",
              "      <th>actual</th>\n",
              "      <th>predicted</th>\n",
              "    </tr>\n",
              "  </thead>\n",
              "  <tbody>\n",
              "    <tr>\n",
              "      <th>195</th>\n",
              "      <td>over six days , about , flights were canceled ...</td>\n",
              "      <td>the the the the the the the the the the the th...</td>\n",
              "    </tr>\n",
              "    <tr>\n",
              "      <th>196</th>\n",
              "      <td>on the contrary , a shakeout of less productiv...</td>\n",
              "      <td>the the the the the the the the the the the th...</td>\n",
              "    </tr>\n",
              "    <tr>\n",
              "      <th>197</th>\n",
              "      <td>success in peacefully removing a tyrant has se...</td>\n",
              "      <td>the the the the the the the the the the the th...</td>\n",
              "    </tr>\n",
              "    <tr>\n",
              "      <th>198</th>\n",
              "      <td>some people are very trusting of others , and ...</td>\n",
              "      <td>the the the the the the the the the the the th...</td>\n",
              "    </tr>\n",
              "    <tr>\n",
              "      <th>199</th>\n",
              "      <td>other feedback loops pose a similar danger .</td>\n",
              "      <td>the the the is the the the</td>\n",
              "    </tr>\n",
              "  </tbody>\n",
              "</table>\n",
              "</div>"
            ],
            "text/plain": [
              "                                                actual                                          predicted\n",
              "195  over six days , about , flights were canceled ...  the the the the the the the the the the the th...\n",
              "196  on the contrary , a shakeout of less productiv...  the the the the the the the the the the the th...\n",
              "197  success in peacefully removing a tyrant has se...  the the the the the the the the the the the th...\n",
              "198  some people are very trusting of others , and ...  the the the the the the the the the the the th...\n",
              "199       other feedback loops pose a similar danger .                         the the the is the the the"
            ]
          },
          "metadata": {
            "tags": []
          },
          "execution_count": 45
        }
      ]
    },
    {
      "cell_type": "markdown",
      "metadata": {
        "id": "CsPtdPBLaC7d",
        "colab_type": "text"
      },
      "source": [
        "### GRU"
      ]
    },
    {
      "cell_type": "code",
      "metadata": {
        "id": "c0rwzgMvZ_3p",
        "colab_type": "code",
        "outputId": "39edac09-e7e5-41ea-9979-1cb48fdaa440",
        "colab": {
          "base_uri": "https://localhost:8080/",
          "height": 283
        }
      },
      "source": [
        "asli, pred = list(), list()\n",
        "evaluate_model(modelgru, deu_tokenizer, testX, test)"
      ],
      "execution_count": 0,
      "outputs": [
        {
          "output_type": "stream",
          "text": [
            "src=[wir haben im rahmen unserer analyse z . b . die vorteile untersucht , die sich kurzfristig aus starker zielgerichteten strategien ergeben wurden dem kauf muckenresistenter moskitonetze und oraler malariamedikamente zur rehydration von kindern in den armsten vom klimawandel betroffenen landern .], target=[our analysis investigated , for example , the merits of more targeted policies for the near term purchasing mosquito resistant bed nets and oral re hydration malaria therapy for children in the poorest nations affected by climate change .], predicted=[recent recent recent recent recent recent recent recent recent recent recent recent recent recent recent recent recent recent recent recent recent recent recent recent recent recent recent recent recent recent recent recent recent recent recent recent recent recent recent recent recent recent recent recent recent recent recent recent recent recent recent recent recent recent recent recent recent recent recent recent recent recent recent recent recent recent recent recent recent recent recent recent recent recent recent recent recent recent recent recent recent recent recent recent recent recent recent recent recent recent recent recent recent recent recent recent recent]\n",
            "src=[new york ist dies das zeitalter der verschworungstheorien ?], target=[new york is this the age of the conspiracy theory ?], predicted=[severe severe severe severe severe acceptable acceptable acceptable acceptable acceptable acceptable acceptable acceptable acceptable acceptable acceptable acceptable acceptable acceptable acceptable acceptable acceptable acceptable acceptable acceptable acceptable acceptable acceptable acceptable acceptable acceptable acceptable acceptable acceptable acceptable acceptable acceptable acceptable acceptable acceptable acceptable acceptable acceptable acceptable acceptable acceptable acceptable acceptable acceptable acceptable acceptable acceptable acceptable acceptable acceptable acceptable acceptable acceptable acceptable acceptable acceptable acceptable acceptable acceptable acceptable acceptable acceptable acceptable acceptable acceptable acceptable acceptable acceptable acceptable acceptable acceptable acceptable acceptable acceptable acceptable acceptable acceptable acceptable acceptable acceptable acceptable acceptable acceptable acceptable acceptable acceptable acceptable acceptable acceptable acceptable acceptable acceptable]\n",
            "src=[ein defizitabbau durch einschnitte bei der finanzierung von bildung , infrastruktur und forschung und entwicklung ahnelt dem versuch , abzunehmen , indem man sich drei finger abschneidet .], target=[reducing the deficit by cutting funds for education , infrastructure , and research and development is akin to trying to lose weight by cutting off three fingers .], predicted=[normandy normandy normandy normandy normandy normandy normandy normandy normandy normandy normandy normandy normandy normandy normandy normandy normandy normandy normandy normandy normandy normandy normandy normandy normandy normandy normandy normandy normandy normandy normandy normandy normandy normandy normandy normandy normandy normandy normandy normandy normandy normandy normandy normandy normandy normandy normandy normandy normandy normandy normandy normandy normandy normandy normandy normandy normandy normandy normandy normandy normandy normandy normandy normandy normandy normandy normandy normandy normandy normandy normandy normandy normandy normandy normandy normandy normandy normandy normandy normandy normandy normandy normandy normandy normandy normandy normandy normandy normandy normandy normandy normandy normandy normandy normandy normandy normandy]\n",
            "src=[in einer anzahl von landern , darunter danemark , die niederlande , die usa und belgien , gibt es seit langem haushaltswachter wie etwa das us congressional budget office cbo .], target=[a number of countries , including denmark , the netherlands , the us , and belgium , have long standing fiscal watchdog agencies , such as the us congressional budget office cbo .], predicted=[tentative references references references solvent solvent solvent solvent references analysis analysis analysis analysis analysis analysis analysis analysis analysis analysis analysis analysis analysis analysis analysis analysis analysis analysis analysis analysis analysis analysis analysis analysis analysis analysis analysis analysis analysis analysis analysis analysis analysis analysis analysis analysis analysis analysis analysis analysis analysis analysis analysis analysis analysis analysis analysis analysis analysis analysis analysis analysis analysis analysis analysis analysis analysis analysis analysis analysis analysis analysis analysis analysis analysis analysis analysis analysis analysis analysis analysis analysis analysis analysis analysis analysis analysis analysis analysis analysis analysis analysis analysis analysis analysis analysis analysis analysis]\n",
            "src=[im gegensatz dazu hatte das militar vorher offentliche kritik an akp initiativen zum thema zypern geubt .], target=[by contrast , the military had earlier publicly criticized akp initiatives on cyprus .], predicted=[get get get get get get get get get get get get get get get get get get get get get get get get get get get get get get get get get get get get get get get get get get get get get get get get get get get get get get get get get get get get get get get get get get get get get get get get get get get get get get get get get get get get get get get get get get get get get get get get get]\n",
            "src=[genau aus diesem grund benotigen wir auch eine weit reichende gemeinsame ethische basis .], target=[precisely for this reason , it also requires a broadly shared ethical basis .], predicted=[nuclear nuclear nuclear nuclear nuclear cbo cbo cbo cbo cbo cbo cbo cbo cbo cbo cbo cbo cbo cbo cbo cbo cbo cbo cbo cbo cbo cbo cbo cbo cbo cbo cbo cbo cbo cbo cbo cbo cbo cbo cbo cbo cbo cbo cbo cbo cbo cbo cbo cbo cbo cbo cbo cbo cbo cbo cbo cbo cbo cbo cbo cbo cbo cbo cbo cbo cbo cbo cbo cbo cbo cbo cbo cbo cbo cbo cbo cbo cbo cbo cbo cbo cbo cbo cbo cbo cbo cbo cbo cbo cbo cbo cbo cbo cbo cbo cbo cbo]\n",
            "src=[das stopfte ein teil des schlupflochs im vertrag , ohne diesen zu andern .], target=[that plugged part of the loophole in the treaty without amending it .], predicted=[renewed renewed renewed renewed renewed renewed renewed renewed renewed renewed renewed renewed renewed renewed renewed renewed renewed renewed renewed renewed renewed renewed renewed renewed renewed renewed renewed renewed renewed renewed renewed renewed renewed renewed renewed renewed renewed renewed renewed renewed renewed renewed renewed renewed renewed renewed renewed renewed renewed renewed renewed renewed renewed renewed renewed renewed renewed renewed renewed renewed renewed renewed renewed renewed renewed renewed renewed renewed renewed renewed renewed renewed renewed renewed renewed renewed renewed renewed renewed renewed renewed renewed renewed renewed renewed renewed renewed renewed renewed renewed renewed renewed renewed renewed renewed renewed renewed]\n",
            "src=[stattessen mussen wir uns unmittelbar auf die starkung von investitionen und export in volkswirtschaften mit leistungsbilanzdefiziten wie frankreich , italien und spanien und gro britannien und auf die ankurbelung des privaten verbrauchs in uberschusslandern wie deutschland und den niederlanden konzentrieren .], target=[instead , the immediate focus needs to be on boosting investment and exports in economies with a current account deficit such as france , italy , and spain and the united kingdom and stimulating consumption in surplus countries such as germany and the netherlands .], predicted=[inet inet inet inet inet inet inet inet inet inet inet inet inet inet inet inet inet inet inet inet inet inet inet inet inet inet inet inet inet inet inet inet inet inet inet inet inet inet inet inet inet inet inet inet inet inet inet inet inet inet inet inet inet inet inet inet inet inet inet inet inet inet inet inet inet inet inet inet inet inet inet inet inet inet inet inet inet inet inet inet inet inet inet inet inet inet inet inet inet inet inet inet inet inet inet inet inet]\n",
            "src=[es gab allerdings keine beweise , dass die weiter verstreute asche , die von island nach europa hinuber wehte ahnliche probleme verursachen wurde .], target=[but there was no evidence that the more widely dispersed ash blowing over europe from iceland would cause similar problems .], predicted=[trotsky trotsky trotsky trotsky trotsky trotsky trotsky trotsky trotsky trotsky trotsky trotsky trotsky trotsky trotsky trotsky trotsky trotsky trotsky trotsky trotsky trotsky trotsky trotsky trotsky trotsky trotsky trotsky trotsky trotsky trotsky trotsky trotsky trotsky trotsky trotsky trotsky trotsky trotsky trotsky trotsky trotsky trotsky trotsky trotsky trotsky trotsky trotsky trotsky trotsky trotsky trotsky trotsky trotsky trotsky trotsky trotsky trotsky trotsky trotsky trotsky trotsky trotsky trotsky trotsky trotsky trotsky trotsky trotsky trotsky trotsky trotsky trotsky trotsky trotsky trotsky trotsky trotsky trotsky trotsky trotsky trotsky trotsky trotsky trotsky trotsky trotsky trotsky trotsky trotsky trotsky trotsky trotsky trotsky trotsky trotsky trotsky]\n",
            "src=[es fordert die wettbewerbsfahigkeit , den landern die moglichkeit zu geben , in diesen bereichen ihre eigene politik zu verfolgen .], target=[allowing countries to pursue their own policies in these areas encourages competitiveness .], predicted=[acknowledging acknowledging logic logic logic logic logic logic logic logic logic logic logic logic logic logic logic logic logic logic logic logic logic logic logic logic logic logic logic logic logic logic logic logic logic logic logic logic logic logic logic logic logic logic logic logic logic logic logic logic logic logic logic logic logic logic logic logic logic logic logic logic logic logic logic logic logic logic logic logic logic logic logic logic logic logic logic logic logic logic logic logic logic logic logic logic logic logic logic logic logic logic logic logic logic logic logic]\n",
            "BLEU-1: 0.000000\n",
            "BLEU-2: 0.000000\n",
            "BLEU-3: 0.000000\n",
            "BLEU-4: 0.000000\n"
          ],
          "name": "stdout"
        }
      ]
    },
    {
      "cell_type": "code",
      "metadata": {
        "id": "qIuVKXdqaGcG",
        "colab_type": "code",
        "colab": {}
      },
      "source": [
        "pred_df_gru = pd.DataFrame({'actual' : asli, 'predicted' : pred})\n",
        "pred_df_gru.to_csv(base_path + 'hasilgru.csv')"
      ],
      "execution_count": 0,
      "outputs": []
    },
    {
      "cell_type": "code",
      "metadata": {
        "id": "_x_uo7Xgtom-",
        "colab_type": "code",
        "outputId": "5c2c186d-9638-463f-8547-c1c272257cab",
        "colab": {
          "base_uri": "https://localhost:8080/",
          "height": 1882
        }
      },
      "source": [
        "pred_df_gru\n"
      ],
      "execution_count": 0,
      "outputs": [
        {
          "output_type": "execute_result",
          "data": {
            "text/html": [
              "<div>\n",
              "<style scoped>\n",
              "    .dataframe tbody tr th:only-of-type {\n",
              "        vertical-align: middle;\n",
              "    }\n",
              "\n",
              "    .dataframe tbody tr th {\n",
              "        vertical-align: top;\n",
              "    }\n",
              "\n",
              "    .dataframe thead th {\n",
              "        text-align: right;\n",
              "    }\n",
              "</style>\n",
              "<table border=\"1\" class=\"dataframe\">\n",
              "  <thead>\n",
              "    <tr style=\"text-align: right;\">\n",
              "      <th></th>\n",
              "      <th>actual</th>\n",
              "      <th>predicted</th>\n",
              "    </tr>\n",
              "  </thead>\n",
              "  <tbody>\n",
              "    <tr>\n",
              "      <th>0</th>\n",
              "      <td>our analysis investigated , for example , the ...</td>\n",
              "      <td>recent recent recent recent recent recent rece...</td>\n",
              "    </tr>\n",
              "    <tr>\n",
              "      <th>1</th>\n",
              "      <td>new york is this the age of the conspiracy the...</td>\n",
              "      <td>severe severe severe severe severe acceptable ...</td>\n",
              "    </tr>\n",
              "    <tr>\n",
              "      <th>2</th>\n",
              "      <td>reducing the deficit by cutting funds for educ...</td>\n",
              "      <td>normandy normandy normandy normandy normandy n...</td>\n",
              "    </tr>\n",
              "    <tr>\n",
              "      <th>3</th>\n",
              "      <td>a number of countries , including denmark , th...</td>\n",
              "      <td>tentative references references references sol...</td>\n",
              "    </tr>\n",
              "    <tr>\n",
              "      <th>4</th>\n",
              "      <td>by contrast , the military had earlier publicl...</td>\n",
              "      <td>get get get get get get get get get get get ge...</td>\n",
              "    </tr>\n",
              "    <tr>\n",
              "      <th>5</th>\n",
              "      <td>precisely for this reason , it also requires a...</td>\n",
              "      <td>nuclear nuclear nuclear nuclear nuclear cbo cb...</td>\n",
              "    </tr>\n",
              "    <tr>\n",
              "      <th>6</th>\n",
              "      <td>that plugged part of the loophole in the treat...</td>\n",
              "      <td>renewed renewed renewed renewed renewed renewe...</td>\n",
              "    </tr>\n",
              "    <tr>\n",
              "      <th>7</th>\n",
              "      <td>instead , the immediate focus needs to be on b...</td>\n",
              "      <td>inet inet inet inet inet inet inet inet inet i...</td>\n",
              "    </tr>\n",
              "    <tr>\n",
              "      <th>8</th>\n",
              "      <td>but there was no evidence that the more widely...</td>\n",
              "      <td>trotsky trotsky trotsky trotsky trotsky trotsk...</td>\n",
              "    </tr>\n",
              "    <tr>\n",
              "      <th>9</th>\n",
              "      <td>allowing countries to pursue their own policie...</td>\n",
              "      <td>acknowledging acknowledging logic logic logic ...</td>\n",
              "    </tr>\n",
              "    <tr>\n",
              "      <th>10</th>\n",
              "      <td>by building up savings over a few years , the ...</td>\n",
              "      <td>opponent tepid tepid tepid tepid tepid tepid t...</td>\n",
              "    </tr>\n",
              "    <tr>\n",
              "      <th>11</th>\n",
              "      <td>although it is true that thousands of the civi...</td>\n",
              "      <td>localized localized localized localized locali...</td>\n",
              "    </tr>\n",
              "    <tr>\n",
              "      <th>12</th>\n",
              "      <td>in mill s view , we are justified in stopping ...</td>\n",
              "      <td>high high high pooled pooled pooled pooled poo...</td>\n",
              "    </tr>\n",
              "    <tr>\n",
              "      <th>13</th>\n",
              "      <td>the official western doctrine is that israel s...</td>\n",
              "      <td>youth youth youth cyclical cyclical cyclical c...</td>\n",
              "    </tr>\n",
              "    <tr>\n",
              "      <th>14</th>\n",
              "      <td>until now , russia has cared less about a new ...</td>\n",
              "      <td>theindian upcoming upcoming upcoming upcoming ...</td>\n",
              "    </tr>\n",
              "    <tr>\n",
              "      <th>15</th>\n",
              "      <td>equally , the transition period is already tur...</td>\n",
              "      <td>trained trained trained trained trained traine...</td>\n",
              "    </tr>\n",
              "    <tr>\n",
              "      <th>16</th>\n",
              "      <td>banks quote statistics to show that they are m...</td>\n",
              "      <td>lankan lankan lankan lankan lankan lankan lank...</td>\n",
              "    </tr>\n",
              "    <tr>\n",
              "      <th>17</th>\n",
              "      <td>it makes much more sense to tax things that ar...</td>\n",
              "      <td>establishing establishing establishing establi...</td>\n",
              "    </tr>\n",
              "    <tr>\n",
              "      <th>18</th>\n",
              "      <td>germans certainly use this argument to stay ou...</td>\n",
              "      <td>high high high high high high high high high h...</td>\n",
              "    </tr>\n",
              "    <tr>\n",
              "      <th>19</th>\n",
              "      <td>china exemplified this approach .</td>\n",
              "      <td>pro unexpectedly unexpectedly sunk sunk sunk s...</td>\n",
              "    </tr>\n",
              "    <tr>\n",
              "      <th>20</th>\n",
              "      <td>when the rich get less rich , the poor get poo...</td>\n",
              "      <td>applications applications applications applica...</td>\n",
              "    </tr>\n",
              "    <tr>\n",
              "      <th>21</th>\n",
              "      <td>it is probably true that many white policemen ...</td>\n",
              "      <td>reached reached reached reached reached reache...</td>\n",
              "    </tr>\n",
              "    <tr>\n",
              "      <th>22</th>\n",
              "      <td>most people have forgotten that the paris prot...</td>\n",
              "      <td>nuclear nuclear nuclear nuclear nuclear nuclea...</td>\n",
              "    </tr>\n",
              "    <tr>\n",
              "      <th>23</th>\n",
              "      <td>in fact , iraqi society is more complex than t...</td>\n",
              "      <td>deposit deposit deposit deposit deposit deposi...</td>\n",
              "    </tr>\n",
              "    <tr>\n",
              "      <th>24</th>\n",
              "      <td>the us , preoccupied with the supposed specter...</td>\n",
              "      <td>existence existence existence existence existe...</td>\n",
              "    </tr>\n",
              "    <tr>\n",
              "      <th>25</th>\n",
              "      <td>yet suu kyi , and much of the burmese oppositi...</td>\n",
              "      <td>warning warning warning warning warning pedro ...</td>\n",
              "    </tr>\n",
              "    <tr>\n",
              "      <th>26</th>\n",
              "      <td>until growth resumes , any tentative financial...</td>\n",
              "      <td>comecon comecon comecon comecon comecon comeco...</td>\n",
              "    </tr>\n",
              "    <tr>\n",
              "      <th>27</th>\n",
              "      <td>in this way we can break free of the instituti...</td>\n",
              "      <td>reconcile reconcile reconcile reconcile reconc...</td>\n",
              "    </tr>\n",
              "    <tr>\n",
              "      <th>28</th>\n",
              "      <td>and to understand how something works is also ...</td>\n",
              "      <td>leave bogus bogus bogus bogus bogus bogus bogu...</td>\n",
              "    </tr>\n",
              "    <tr>\n",
              "      <th>29</th>\n",
              "      <td>instead , they must improve the environment fo...</td>\n",
              "      <td>demanding demanding demanding demanding demand...</td>\n",
              "    </tr>\n",
              "    <tr>\n",
              "      <th>...</th>\n",
              "      <td>...</td>\n",
              "      <td>...</td>\n",
              "    </tr>\n",
              "    <tr>\n",
              "      <th>170</th>\n",
              "      <td>when problems started to surface , the finance...</td>\n",
              "      <td>serving serving trotsky trotsky trotsky trotsk...</td>\n",
              "    </tr>\n",
              "    <tr>\n",
              "      <th>171</th>\n",
              "      <td>it all came about in a number of ways .</td>\n",
              "      <td>evolution evolution evolution evolution evolut...</td>\n",
              "    </tr>\n",
              "    <tr>\n",
              "      <th>172</th>\n",
              "      <td>in the mid s , many parties to the npt planned...</td>\n",
              "      <td>thatcher thatcher thatcher thatcher thatcher t...</td>\n",
              "    </tr>\n",
              "    <tr>\n",
              "      <th>173</th>\n",
              "      <td>this three point program would lay the ground ...</td>\n",
              "      <td>outset outset outset outset outset outset outs...</td>\n",
              "    </tr>\n",
              "    <tr>\n",
              "      <th>174</th>\n",
              "      <td>this political power , not the requirements of...</td>\n",
              "      <td>hugo hugo hugo hugo hugo hugo term hugo hugo h...</td>\n",
              "    </tr>\n",
              "    <tr>\n",
              "      <th>175</th>\n",
              "      <td>is this realistic ?</td>\n",
              "      <td>tug tug tug tug tug tug tug tug tug tug tug tu...</td>\n",
              "    </tr>\n",
              "    <tr>\n",
              "      <th>176</th>\n",
              "      <td>the most important way to achieve both objecti...</td>\n",
              "      <td>detail detail detail detail detail detail deta...</td>\n",
              "    </tr>\n",
              "    <tr>\n",
              "      <th>177</th>\n",
              "      <td>but the book is almost entirely non theoretical .</td>\n",
              "      <td>deteriorated deteriorated deteriorated deterio...</td>\n",
              "    </tr>\n",
              "    <tr>\n",
              "      <th>178</th>\n",
              "      <td>when anyone i don t know says trust me an irri...</td>\n",
              "      <td>abyss abyss abyss abyss abyss abyss abyss abys...</td>\n",
              "    </tr>\n",
              "    <tr>\n",
              "      <th>179</th>\n",
              "      <td>after all , this is europe more than six decad...</td>\n",
              "      <td>wall wall wall wall wall wall wall wall wall w...</td>\n",
              "    </tr>\n",
              "    <tr>\n",
              "      <th>180</th>\n",
              "      <td>however , local decisions often have repercuss...</td>\n",
              "      <td>identities shape shape shape shape shape shape...</td>\n",
              "    </tr>\n",
              "    <tr>\n",
              "      <th>181</th>\n",
              "      <td>they could make a real contribution to cleaner...</td>\n",
              "      <td>relationship relationship progressive progress...</td>\n",
              "    </tr>\n",
              "    <tr>\n",
              "      <th>182</th>\n",
              "      <td>in this respect , india more resembles the fra...</td>\n",
              "      <td>sake conventional utopian utopian utopian utop...</td>\n",
              "    </tr>\n",
              "    <tr>\n",
              "      <th>183</th>\n",
              "      <td>yet , in america and most of the world , drug ...</td>\n",
              "      <td>genocide genocide genocide genocide focused fo...</td>\n",
              "    </tr>\n",
              "    <tr>\n",
              "      <th>184</th>\n",
              "      <td>officially , this has not yet been acknowledged .</td>\n",
              "      <td>percent percent percent percent percent percen...</td>\n",
              "    </tr>\n",
              "    <tr>\n",
              "      <th>185</th>\n",
              "      <td>the culprit in this pessimistic view is the so...</td>\n",
              "      <td>insolvent relations relations relations relati...</td>\n",
              "    </tr>\n",
              "    <tr>\n",
              "      <th>186</th>\n",
              "      <td>this year , the us will spend around billion f...</td>\n",
              "      <td>sins sins sins sins sins sins sins ukip ukip u...</td>\n",
              "    </tr>\n",
              "    <tr>\n",
              "      <th>187</th>\n",
              "      <td>today , with interest rates near or at record ...</td>\n",
              "      <td>trivial trivial trivial trivial trivial derive...</td>\n",
              "    </tr>\n",
              "    <tr>\n",
              "      <th>188</th>\n",
              "      <td>concentration of media ownership and control f...</td>\n",
              "      <td>nicolas nicolas nicolas nicolas nicolas nicola...</td>\n",
              "    </tr>\n",
              "    <tr>\n",
              "      <th>189</th>\n",
              "      <td>in spain , for example , local savings banks c...</td>\n",
              "      <td>integrate integrate integrate integrate integr...</td>\n",
              "    </tr>\n",
              "    <tr>\n",
              "      <th>190</th>\n",
              "      <td></td>\n",
              "      <td>wrong wrong wrong wrong wrong wrong wrong wron...</td>\n",
              "    </tr>\n",
              "    <tr>\n",
              "      <th>191</th>\n",
              "      <td>their silence on iraq reflected their apprehen...</td>\n",
              "      <td>subsidies subsidies outletjournal outletjourna...</td>\n",
              "    </tr>\n",
              "    <tr>\n",
              "      <th>192</th>\n",
              "      <td>back then , gold hit , or well over , in today...</td>\n",
              "      <td>meeting proposal proposal proposal proposal pr...</td>\n",
              "    </tr>\n",
              "    <tr>\n",
              "      <th>193</th>\n",
              "      <td>perhaps they are right .</td>\n",
              "      <td>held held held held held held held held held h...</td>\n",
              "    </tr>\n",
              "    <tr>\n",
              "      <th>194</th>\n",
              "      <td>if the bonds were acceptable as collateral bef...</td>\n",
              "      <td>reforms reforms containment containment contai...</td>\n",
              "    </tr>\n",
              "    <tr>\n",
              "      <th>195</th>\n",
              "      <td>over six days , about , flights were canceled ...</td>\n",
              "      <td>spell suited suited suited suited suited suite...</td>\n",
              "    </tr>\n",
              "    <tr>\n",
              "      <th>196</th>\n",
              "      <td>on the contrary , a shakeout of less productiv...</td>\n",
              "      <td>reliably reliably reliably reliably reliably r...</td>\n",
              "    </tr>\n",
              "    <tr>\n",
              "      <th>197</th>\n",
              "      <td>success in peacefully removing a tyrant has se...</td>\n",
              "      <td>advising an an an an an an an an an an an an a...</td>\n",
              "    </tr>\n",
              "    <tr>\n",
              "      <th>198</th>\n",
              "      <td>some people are very trusting of others , and ...</td>\n",
              "      <td>defenders defenders patriotic patriotic patrio...</td>\n",
              "    </tr>\n",
              "    <tr>\n",
              "      <th>199</th>\n",
              "      <td>other feedback loops pose a similar danger .</td>\n",
              "      <td>w w w w w w w w w w w w w w w w w w w w w w w ...</td>\n",
              "    </tr>\n",
              "  </tbody>\n",
              "</table>\n",
              "<p>200 rows × 2 columns</p>\n",
              "</div>"
            ],
            "text/plain": [
              "                                                actual                                          predicted\n",
              "0    our analysis investigated , for example , the ...  recent recent recent recent recent recent rece...\n",
              "1    new york is this the age of the conspiracy the...  severe severe severe severe severe acceptable ...\n",
              "2    reducing the deficit by cutting funds for educ...  normandy normandy normandy normandy normandy n...\n",
              "3    a number of countries , including denmark , th...  tentative references references references sol...\n",
              "4    by contrast , the military had earlier publicl...  get get get get get get get get get get get ge...\n",
              "5    precisely for this reason , it also requires a...  nuclear nuclear nuclear nuclear nuclear cbo cb...\n",
              "6    that plugged part of the loophole in the treat...  renewed renewed renewed renewed renewed renewe...\n",
              "7    instead , the immediate focus needs to be on b...  inet inet inet inet inet inet inet inet inet i...\n",
              "8    but there was no evidence that the more widely...  trotsky trotsky trotsky trotsky trotsky trotsk...\n",
              "9    allowing countries to pursue their own policie...  acknowledging acknowledging logic logic logic ...\n",
              "10   by building up savings over a few years , the ...  opponent tepid tepid tepid tepid tepid tepid t...\n",
              "11   although it is true that thousands of the civi...  localized localized localized localized locali...\n",
              "12   in mill s view , we are justified in stopping ...  high high high pooled pooled pooled pooled poo...\n",
              "13   the official western doctrine is that israel s...  youth youth youth cyclical cyclical cyclical c...\n",
              "14   until now , russia has cared less about a new ...  theindian upcoming upcoming upcoming upcoming ...\n",
              "15   equally , the transition period is already tur...  trained trained trained trained trained traine...\n",
              "16   banks quote statistics to show that they are m...  lankan lankan lankan lankan lankan lankan lank...\n",
              "17   it makes much more sense to tax things that ar...  establishing establishing establishing establi...\n",
              "18   germans certainly use this argument to stay ou...  high high high high high high high high high h...\n",
              "19                   china exemplified this approach .  pro unexpectedly unexpectedly sunk sunk sunk s...\n",
              "20   when the rich get less rich , the poor get poo...  applications applications applications applica...\n",
              "21   it is probably true that many white policemen ...  reached reached reached reached reached reache...\n",
              "22   most people have forgotten that the paris prot...  nuclear nuclear nuclear nuclear nuclear nuclea...\n",
              "23   in fact , iraqi society is more complex than t...  deposit deposit deposit deposit deposit deposi...\n",
              "24   the us , preoccupied with the supposed specter...  existence existence existence existence existe...\n",
              "25   yet suu kyi , and much of the burmese oppositi...  warning warning warning warning warning pedro ...\n",
              "26   until growth resumes , any tentative financial...  comecon comecon comecon comecon comecon comeco...\n",
              "27   in this way we can break free of the instituti...  reconcile reconcile reconcile reconcile reconc...\n",
              "28   and to understand how something works is also ...  leave bogus bogus bogus bogus bogus bogus bogu...\n",
              "29   instead , they must improve the environment fo...  demanding demanding demanding demanding demand...\n",
              "..                                                 ...                                                ...\n",
              "170  when problems started to surface , the finance...  serving serving trotsky trotsky trotsky trotsk...\n",
              "171            it all came about in a number of ways .  evolution evolution evolution evolution evolut...\n",
              "172  in the mid s , many parties to the npt planned...  thatcher thatcher thatcher thatcher thatcher t...\n",
              "173  this three point program would lay the ground ...  outset outset outset outset outset outset outs...\n",
              "174  this political power , not the requirements of...  hugo hugo hugo hugo hugo hugo term hugo hugo h...\n",
              "175                                is this realistic ?  tug tug tug tug tug tug tug tug tug tug tug tu...\n",
              "176  the most important way to achieve both objecti...  detail detail detail detail detail detail deta...\n",
              "177  but the book is almost entirely non theoretical .  deteriorated deteriorated deteriorated deterio...\n",
              "178  when anyone i don t know says trust me an irri...  abyss abyss abyss abyss abyss abyss abyss abys...\n",
              "179  after all , this is europe more than six decad...  wall wall wall wall wall wall wall wall wall w...\n",
              "180  however , local decisions often have repercuss...  identities shape shape shape shape shape shape...\n",
              "181  they could make a real contribution to cleaner...  relationship relationship progressive progress...\n",
              "182  in this respect , india more resembles the fra...  sake conventional utopian utopian utopian utop...\n",
              "183  yet , in america and most of the world , drug ...  genocide genocide genocide genocide focused fo...\n",
              "184  officially , this has not yet been acknowledged .  percent percent percent percent percent percen...\n",
              "185  the culprit in this pessimistic view is the so...  insolvent relations relations relations relati...\n",
              "186  this year , the us will spend around billion f...  sins sins sins sins sins sins sins ukip ukip u...\n",
              "187  today , with interest rates near or at record ...  trivial trivial trivial trivial trivial derive...\n",
              "188  concentration of media ownership and control f...  nicolas nicolas nicolas nicolas nicolas nicola...\n",
              "189  in spain , for example , local savings banks c...  integrate integrate integrate integrate integr...\n",
              "190                                                     wrong wrong wrong wrong wrong wrong wrong wron...\n",
              "191  their silence on iraq reflected their apprehen...  subsidies subsidies outletjournal outletjourna...\n",
              "192  back then , gold hit , or well over , in today...  meeting proposal proposal proposal proposal pr...\n",
              "193                           perhaps they are right .  held held held held held held held held held h...\n",
              "194  if the bonds were acceptable as collateral bef...  reforms reforms containment containment contai...\n",
              "195  over six days , about , flights were canceled ...  spell suited suited suited suited suited suite...\n",
              "196  on the contrary , a shakeout of less productiv...  reliably reliably reliably reliably reliably r...\n",
              "197  success in peacefully removing a tyrant has se...  advising an an an an an an an an an an an an a...\n",
              "198  some people are very trusting of others , and ...  defenders defenders patriotic patriotic patrio...\n",
              "199       other feedback loops pose a similar danger .  w w w w w w w w w w w w w w w w w w w w w w w ...\n",
              "\n",
              "[200 rows x 2 columns]"
            ]
          },
          "metadata": {
            "tags": []
          },
          "execution_count": 67
        }
      ]
    },
    {
      "cell_type": "code",
      "metadata": {
        "id": "hl9xn2he7wIX",
        "colab_type": "code",
        "colab": {}
      },
      "source": [
        ""
      ],
      "execution_count": 0,
      "outputs": []
    }
  ]
}