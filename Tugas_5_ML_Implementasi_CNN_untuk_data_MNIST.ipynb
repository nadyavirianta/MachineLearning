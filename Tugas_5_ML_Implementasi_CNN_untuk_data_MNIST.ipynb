{
  "nbformat": 4,
  "nbformat_minor": 0,
  "metadata": {
    "colab": {
      "name": "Tugas 5 ML Implementasi CNN untuk data MNIST.ipynb",
      "version": "0.3.2",
      "provenance": [],
      "collapsed_sections": [],
      "include_colab_link": true
    },
    "kernelspec": {
      "name": "python3",
      "display_name": "Python 3"
    },
    "accelerator": "GPU"
  },
  "cells": [
    {
      "cell_type": "markdown",
      "metadata": {
        "id": "view-in-github",
        "colab_type": "text"
      },
      "source": [
        "<a href=\"https://colab.research.google.com/github/nadyavirianta/MachineLearning/blob/master/Tugas_5_ML_Implementasi_CNN_untuk_data_MNIST.ipynb\" target=\"_parent\"><img src=\"https://colab.research.google.com/assets/colab-badge.svg\" alt=\"Open In Colab\"/></a>"
      ]
    },
    {
      "metadata": {
        "id": "5XFhnRlZixAE",
        "colab_type": "text"
      },
      "cell_type": "markdown",
      "source": [
        "### Tugas 5 Machine Learning\n",
        "### Implementasi CNN dengan data MNIST\n",
        "### Nadya Avirianta S\n",
        "### 16/394096/PA/17187"
      ]
    },
    {
      "metadata": {
        "id": "dQqGK_Zf4NBt",
        "colab_type": "code",
        "colab": {
          "base_uri": "https://localhost:8080/",
          "height": 34
        },
        "outputId": "ea5150d6-b4d2-4909-f3ab-3b496a04b658"
      },
      "cell_type": "code",
      "source": [
        "#import library \n",
        "%matplotlib inline\n",
        "import matplotlib.pyplot as plt \n",
        "import seaborn\n",
        "import random     \n",
        "\n",
        "from keras.preprocessing.image import ImageDataGenerator"
      ],
      "execution_count": 1,
      "outputs": [
        {
          "output_type": "stream",
          "text": [
            "Using TensorFlow backend.\n"
          ],
          "name": "stderr"
        }
      ]
    },
    {
      "metadata": {
        "id": "-ZSdFrFA58ga",
        "colab_type": "code",
        "colab": {}
      },
      "cell_type": "code",
      "source": [
        "#import dataset MNIST\n",
        "from keras.datasets import mnist  \n",
        "(X_train, y_train) , (X_test, y_test) = mnist.load_data()"
      ],
      "execution_count": 0,
      "outputs": []
    },
    {
      "metadata": {
        "id": "X8wtCf0vQjlQ",
        "colab_type": "code",
        "colab": {
          "base_uri": "https://localhost:8080/",
          "height": 589
        },
        "outputId": "6d04a861-5902-4f8d-84bc-d24fb2a5900f"
      },
      "cell_type": "code",
      "source": [
        "#Visualisasi data MNIST \n",
        "class_names = ['0','1','2','3','4','5','6','7','8','9']\n",
        "plt.figure(figsize=(10,10))\n",
        "for i in range(25):\n",
        "    plt.subplot(5,5,i+1)\n",
        "    plt.xticks([])\n",
        "    plt.yticks([])\n",
        "    plt.grid(False)\n",
        "    plt.imshow(X_train[i], cmap=plt.cm.binary)\n",
        "    plt.xlabel(class_names[y_train[i]])\n",
        "plt.show()"
      ],
      "execution_count": 11,
      "outputs": [
        {
          "output_type": "display_data",
          "data": {
            "image/png": "[encoded data removed]",
            "text/plain": [
              "<Figure size 720x720 with 25 Axes>"
            ]
          },
          "metadata": {
            "tags": []
          }
        }
      ]
    },
    {
      "metadata": {
        "id": "RoSzL2eI6A62",
        "colab_type": "code",
        "outputId": "e536a357-464f-45e7-ea43-23e13dd41225",
        "colab": {
          "base_uri": "https://localhost:8080/",
          "height": 52
        }
      },
      "cell_type": "code",
      "source": [
        "# Normalisasi input\n",
        "X_train= X_train.reshape(X_train.shape[0], 28, 28, 1)\n",
        "X_train = X_train.astype('float32')\n",
        "X_train/=255\n",
        "X_test = X_test.reshape(X_test.shape[0],28,28,1)\n",
        "X_test = X_test.astype('float32')\n",
        "X_test/=255\n",
        "print(X_train.shape)\n",
        "print(X_test.shape)"
      ],
      "execution_count": 12,
      "outputs": [
        {
          "output_type": "stream",
          "text": [
            "(60000, 28, 28, 1)\n",
            "(10000, 28, 28, 1)\n"
          ],
          "name": "stdout"
        }
      ]
    },
    {
      "metadata": {
        "id": "uJUvpgB2Omgx",
        "colab_type": "code",
        "outputId": "7b59ccb6-a8ef-462a-917a-6065e5726399",
        "colab": {
          "base_uri": "https://localhost:8080/",
          "height": 34
        }
      },
      "cell_type": "code",
      "source": [
        "#ubah target classnya menjadi one hot\n",
        "from  keras.utils import np_utils\n",
        "y_train = np_utils.to_categorical(y_train)\n",
        "y_test= np_utils.to_categorical(y_test)\n",
        "print(y_train[0])"
      ],
      "execution_count": 13,
      "outputs": [
        {
          "output_type": "stream",
          "text": [
            "[0. 0. 0. 0. 0. 1. 0. 0. 0. 0.]\n"
          ],
          "name": "stdout"
        }
      ]
    },
    {
      "metadata": {
        "id": "kjICA1Q2KhZE",
        "colab_type": "text"
      },
      "cell_type": "markdown",
      "source": [
        "### Artitektur CNN"
      ]
    },
    {
      "metadata": {
        "id": "dhU-GE93NnrU",
        "colab_type": "code",
        "colab": {}
      },
      "cell_type": "code",
      "source": [
        "#import library untuk membuat model CNN\n",
        "from keras.models import Sequential\n",
        "from keras.layers import MaxPool2D\n",
        "from keras.layers import Activation, Dropout, Flatten, Dense\n",
        "from keras.layers import Conv2D, BatchNormalization"
      ],
      "execution_count": 0,
      "outputs": []
    },
    {
      "metadata": {
        "id": "pYNlHBwKOSHT",
        "colab_type": "code",
        "colab": {}
      },
      "cell_type": "code",
      "source": [
        "#Membuat arsitektur CNN \n",
        "\n",
        "classifier = Sequential()\n",
        "classifier.add(Conv2D(32, (3,3), input_shape=(28,28,1)))\n",
        "BatchNormalization(axis=-1)\n",
        "classifier.add(Activation('relu'))\n",
        "classifier.add(MaxPool2D(pool_size=(2,2)))\n",
        "\n",
        "classifier.add(Conv2D(32, (3,3)))\n",
        "BatchNormalization(axis=-1)\n",
        "classifier.add(Activation('relu'))\n",
        "classifier.add(MaxPool2D(pool_size=(2,2)))\n",
        "\n",
        "classifier.add(Conv2D(64, (3,3)))\n",
        "BatchNormalization(axis=-1)\n",
        "classifier.add(Activation('relu'))\n",
        "classifier.add(MaxPool2D(pool_size=(2,2)))\n",
        "               \n",
        "               \n",
        "classifier.add(Flatten())\n",
        "BatchNormalization()\n",
        "classifier.add(Dense(512))\n",
        "BatchNormalization()\n",
        "classifier.add(Activation('relu'))\n",
        "classifier.add(Dropout(0.2))\n",
        "classifier.add(Dense(10))\n",
        "classifier.add(Activation('softmax'))"
      ],
      "execution_count": 0,
      "outputs": []
    },
    {
      "metadata": {
        "id": "5bjgLgJKSQsf",
        "colab_type": "code",
        "colab": {
          "base_uri": "https://localhost:8080/",
          "height": 668
        },
        "outputId": "08e85915-c46b-41eb-f0c7-05e2c38b432b"
      },
      "cell_type": "code",
      "source": [
        "classifier.summary()"
      ],
      "execution_count": 39,
      "outputs": [
        {
          "output_type": "stream",
          "text": [
            "_________________________________________________________________\n",
            "Layer (type)                 Output Shape              Param #   \n",
            "=================================================================\n",
            "conv2d_16 (Conv2D)           (None, 26, 26, 32)        320       \n",
            "_________________________________________________________________\n",
            "activation_26 (Activation)   (None, 26, 26, 32)        0         \n",
            "_________________________________________________________________\n",
            "max_pooling2d_16 (MaxPooling (None, 13, 13, 32)        0         \n",
            "_________________________________________________________________\n",
            "conv2d_17 (Conv2D)           (None, 11, 11, 32)        9248      \n",
            "_________________________________________________________________\n",
            "activation_27 (Activation)   (None, 11, 11, 32)        0         \n",
            "_________________________________________________________________\n",
            "max_pooling2d_17 (MaxPooling (None, 5, 5, 32)          0         \n",
            "_________________________________________________________________\n",
            "conv2d_18 (Conv2D)           (None, 3, 3, 64)          18496     \n",
            "_________________________________________________________________\n",
            "activation_28 (Activation)   (None, 3, 3, 64)          0         \n",
            "_________________________________________________________________\n",
            "max_pooling2d_18 (MaxPooling (None, 1, 1, 64)          0         \n",
            "_________________________________________________________________\n",
            "flatten_6 (Flatten)          (None, 64)                0         \n",
            "_________________________________________________________________\n",
            "dense_11 (Dense)             (None, 512)               33280     \n",
            "_________________________________________________________________\n",
            "activation_29 (Activation)   (None, 512)               0         \n",
            "_________________________________________________________________\n",
            "dropout_6 (Dropout)          (None, 512)               0         \n",
            "_________________________________________________________________\n",
            "dense_12 (Dense)             (None, 10)                5130      \n",
            "_________________________________________________________________\n",
            "activation_30 (Activation)   (None, 10)                0         \n",
            "=================================================================\n",
            "Total params: 66,474\n",
            "Trainable params: 66,474\n",
            "Non-trainable params: 0\n",
            "_________________________________________________________________\n"
          ],
          "name": "stdout"
        }
      ]
    },
    {
      "metadata": {
        "id": "bhbenyasOXgy",
        "colab_type": "code",
        "colab": {}
      },
      "cell_type": "code",
      "source": [
        "classifier.compile(optimizer='adam', loss='categorical_crossentropy', metrics=['accuracy'])"
      ],
      "execution_count": 0,
      "outputs": []
    },
    {
      "metadata": {
        "id": "fAfyqS2bOe1Y",
        "colab_type": "code",
        "colab": {}
      },
      "cell_type": "code",
      "source": [
        "from keras.preprocessing.image import ImageDataGenerator\n",
        "train_gen = ImageDataGenerator()\n",
        "test_gen = ImageDataGenerator()"
      ],
      "execution_count": 0,
      "outputs": []
    },
    {
      "metadata": {
        "id": "1Ugj4qwgWT5d",
        "colab_type": "code",
        "colab": {}
      },
      "cell_type": "code",
      "source": [
        "training_set= train_gen.flow(X_train, y_train, batch_size=64)\n",
        "test_set= train_gen.flow(X_test, y_test, batch_size=64)"
      ],
      "execution_count": 0,
      "outputs": []
    },
    {
      "metadata": {
        "id": "XPm7-omZRAKt",
        "colab_type": "code",
        "outputId": "3b5a4b2f-b2d0-4d5c-cfa3-5b832a18c0e8",
        "colab": {
          "base_uri": "https://localhost:8080/",
          "height": 721
        }
      },
      "cell_type": "code",
      "source": [
        "history = classifier.fit_generator(training_set, \n",
        "                         steps_per_epoch=60000//64, \n",
        "                         validation_data= test_set, \n",
        "                         validation_steps=10000//64, \n",
        "                         epochs=20)"
      ],
      "execution_count": 47,
      "outputs": [
        {
          "output_type": "stream",
          "text": [
            "Epoch 1/20\n",
            "937/937 [==============================] - 11s 11ms/step - loss: 0.0990 - acc: 0.9697 - val_loss: 0.0718 - val_acc: 0.9781\n",
            "Epoch 2/20\n",
            "937/937 [==============================] - 10s 11ms/step - loss: 0.0671 - acc: 0.9792 - val_loss: 0.0607 - val_acc: 0.9809\n",
            "Epoch 3/20\n",
            "937/937 [==============================] - 10s 11ms/step - loss: 0.0528 - acc: 0.9833 - val_loss: 0.0611 - val_acc: 0.9822\n",
            "Epoch 4/20\n",
            "937/937 [==============================] - 10s 11ms/step - loss: 0.0444 - acc: 0.9857 - val_loss: 0.0598 - val_acc: 0.9836\n",
            "Epoch 5/20\n",
            "937/937 [==============================] - 10s 11ms/step - loss: 0.0344 - acc: 0.9889 - val_loss: 0.0472 - val_acc: 0.9861\n",
            "Epoch 6/20\n",
            "937/937 [==============================] - 10s 11ms/step - loss: 0.0308 - acc: 0.9896 - val_loss: 0.0438 - val_acc: 0.9873\n",
            "Epoch 7/20\n",
            "937/937 [==============================] - 10s 11ms/step - loss: 0.0265 - acc: 0.9917 - val_loss: 0.0506 - val_acc: 0.9866\n",
            "Epoch 8/20\n",
            "937/937 [==============================] - 10s 11ms/step - loss: 0.0223 - acc: 0.9929 - val_loss: 0.0606 - val_acc: 0.9858\n",
            "Epoch 9/20\n",
            "937/937 [==============================] - 10s 11ms/step - loss: 0.0206 - acc: 0.9933 - val_loss: 0.0496 - val_acc: 0.9859\n",
            "Epoch 10/20\n",
            "937/937 [==============================] - 10s 11ms/step - loss: 0.0183 - acc: 0.9943 - val_loss: 0.0588 - val_acc: 0.9864\n",
            "Epoch 11/20\n",
            "937/937 [==============================] - 10s 11ms/step - loss: 0.0177 - acc: 0.9942 - val_loss: 0.0632 - val_acc: 0.9867\n",
            "Epoch 12/20\n",
            "937/937 [==============================] - 10s 11ms/step - loss: 0.0144 - acc: 0.9952 - val_loss: 0.0550 - val_acc: 0.9874\n",
            "Epoch 13/20\n",
            "937/937 [==============================] - 10s 11ms/step - loss: 0.0137 - acc: 0.9956 - val_loss: 0.0604 - val_acc: 0.9877\n",
            "Epoch 14/20\n",
            "937/937 [==============================] - 10s 11ms/step - loss: 0.0130 - acc: 0.9956 - val_loss: 0.0539 - val_acc: 0.9869\n",
            "Epoch 15/20\n",
            "937/937 [==============================] - 10s 11ms/step - loss: 0.0113 - acc: 0.9963 - val_loss: 0.0556 - val_acc: 0.9886\n",
            "Epoch 16/20\n",
            "937/937 [==============================] - 10s 11ms/step - loss: 0.0113 - acc: 0.9962 - val_loss: 0.0533 - val_acc: 0.9881\n",
            "Epoch 17/20\n",
            "937/937 [==============================] - 10s 11ms/step - loss: 0.0102 - acc: 0.9966 - val_loss: 0.0626 - val_acc: 0.9871\n",
            "Epoch 18/20\n",
            "937/937 [==============================] - 10s 11ms/step - loss: 0.0100 - acc: 0.9968 - val_loss: 0.0678 - val_acc: 0.9868\n",
            "Epoch 19/20\n",
            "937/937 [==============================] - 10s 11ms/step - loss: 0.0101 - acc: 0.9963 - val_loss: 0.0743 - val_acc: 0.9868\n",
            "Epoch 20/20\n",
            "937/937 [==============================] - 10s 11ms/step - loss: 0.0107 - acc: 0.9963 - val_loss: 0.0745 - val_acc: 0.9871\n"
          ],
          "name": "stdout"
        }
      ]
    },
    {
      "metadata": {
        "id": "ZgQ6fawMP6XY",
        "colab_type": "code",
        "outputId": "ac2e98ae-e7d0-4ee1-9131-6d162dedea76",
        "colab": {
          "base_uri": "https://localhost:8080/",
          "height": 34
        }
      },
      "cell_type": "code",
      "source": [
        "classifier.evaluate_generator(test_set,10000)"
      ],
      "execution_count": 48,
      "outputs": [
        {
          "output_type": "execute_result",
          "data": {
            "text/plain": [
              "[0.07538438148087992, 0.9869027582395499]"
            ]
          },
          "metadata": {
            "tags": []
          },
          "execution_count": 48
        }
      ]
    },
    {
      "metadata": {
        "id": "wJZz3jxVQ3Dn",
        "colab_type": "code",
        "colab": {}
      },
      "cell_type": "code",
      "source": [
        "#untuk plotting akurasi dan loss \n",
        "\n",
        "def plot_history(history):\n",
        "    plt.plot(history.history['acc'])\n",
        "    plt.plot(history.history['val_acc'])\n",
        "    plt.title('Model Accuracy')\n",
        "    plt.ylabel('Accuracy')\n",
        "    plt.xlabel('Epoch')\n",
        "    plt.legend(['Train', 'Validation'], loc='upper left')\n",
        "    plt.show()\n",
        "    # summarize history for loss\n",
        "    plt.plot(history.history['loss'])\n",
        "    plt.plot(history.history['val_loss'])\n",
        "    plt.title('Model Loss')\n",
        "    plt.ylabel('Loss')\n",
        "    plt.xlabel('Epoch')\n",
        "    plt.legend(['Train', 'Validation'], loc='upper right')\n",
        "    plt.show()"
      ],
      "execution_count": 0,
      "outputs": []
    },
    {
      "metadata": {
        "id": "Z5YGYxDCVA_-",
        "colab_type": "code",
        "outputId": "6531bb5a-7464-44c9-ea5c-b9108d42083a",
        "colab": {
          "base_uri": "https://localhost:8080/",
          "height": 570
        }
      },
      "cell_type": "code",
      "source": [
        "plot_history(history)"
      ],
      "execution_count": 50,
      "outputs": [
        {
          "output_type": "display_data",
          "data": {
            "image/png": "[encoded data removed]",
            "text/plain": [
              "<Figure size 432x288 with 1 Axes>"
            ]
          },
          "metadata": {
            "tags": []
          }
        },
        {
          "output_type": "display_data",
          "data": {
            "image/png": "[encoded data removed]",
            "text/plain": [
              "<Figure size 432x288 with 1 Axes>"
            ]
          },
          "metadata": {
            "tags": []
          }
        }
      ]
    },
    {
      "metadata": {
        "id": "nAaWYb_4ddjC",
        "colab_type": "code",
        "colab": {}
      },
      "cell_type": "code",
      "source": [
        ""
      ],
      "execution_count": 0,
      "outputs": []
    }
  ]
}